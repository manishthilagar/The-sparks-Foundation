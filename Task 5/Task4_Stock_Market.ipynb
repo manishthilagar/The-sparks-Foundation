{
  "nbformat": 4,
  "nbformat_minor": 0,
  "metadata": {
    "colab": {
      "name": "Task4_Stock_Market.ipynb",
      "provenance": [],
      "collapsed_sections": []
    },
    "kernelspec": {
      "display_name": "Python 3",
      "language": "python",
      "name": "python3"
    },
    "language_info": {
      "codemirror_mode": {
        "name": "ipython",
        "version": 3
      },
      "file_extension": ".py",
      "mimetype": "text/x-python",
      "name": "python",
      "nbconvert_exporter": "python",
      "pygments_lexer": "ipython3",
      "version": "3.8.5"
    }
  },
  "cells": [
    {
      "cell_type": "markdown",
      "metadata": {
        "id": "4FKz879EhRsi"
      },
      "source": [
        "## The Sparks Foundation\n",
        "### Data Science and Business Analytics: Task #4\n",
        "### Problem statement: Create a hybrid model for stock price/performance prediction using numerical analysis of historical stock prices, and sentimental analysis of news headlines\n"
      ]
    },
    {
      "cell_type": "code",
      "metadata": {
        "id": "G6ar5jT9iKcx"
      },
      "source": [
        "\"\"\"\n",
        "importing required libraries\n",
        "\"\"\"\n",
        "import pandas as pd\n",
        "import re\n",
        "import collections\n",
        "import numpy as np\n",
        "import pandas as pd\n",
        "import matplotlib.cm as cm\n",
        "import matplotlib.pyplot as plt\n",
        "import pmdarima as pm\n",
        "import nltk\n",
        "from textblob import TextBlob\n",
        "from matplotlib.pyplot import figure\n",
        "from matplotlib import rcParams\n",
        "from wordcloud import WordCloud, STOPWORDS\n",
        "from vaderSentiment.vaderSentiment import SentimentIntensityAnalyzer\n",
        "from sklearn.model_selection import train_test_split\n",
        "from sklearn.svm import SVC\n",
        "from sklearn.metrics import classification_report, confusion_matrix\n",
        "from sklearn.discriminant_analysis import LinearDiscriminantAnalysis\n",
        "from sklearn.metrics import classification_report\n",
        "from sklearn.tree import DecisionTreeClassifier"
      ],
      "execution_count": null,
      "outputs": []
    },
    {
      "cell_type": "markdown",
      "metadata": {
        "id": "Y-YKWzVPqZks"
      },
      "source": [
        "## Data Collection"
      ]
    },
    {
      "cell_type": "code",
      "metadata": {
        "id": "N8d34_8jAT4U"
      },
      "source": [
        "\"\"\"\n",
        "loading news\n",
        "\"\"\"\n",
        "News=pd.read_csv(\"/home/suzi/Downloads/archive/Combined_News_DJIA.csv\")"
      ],
      "execution_count": null,
      "outputs": []
    },
    {
      "cell_type": "code",
      "metadata": {
        "id": "SBst-nMyBW8A",
        "outputId": "f56f40af-c641-4c3a-87cb-04e6d6e74d23",
        "colab": {
          "base_uri": "https://localhost:8080/",
          "height": 683
        }
      },
      "source": [
        "News.head()"
      ],
      "execution_count": null,
      "outputs": [
        {
          "output_type": "execute_result",
          "data": {
            "text/html": [
              "<div>\n",
              "<style scoped>\n",
              "    .dataframe tbody tr th:only-of-type {\n",
              "        vertical-align: middle;\n",
              "    }\n",
              "\n",
              "    .dataframe tbody tr th {\n",
              "        vertical-align: top;\n",
              "    }\n",
              "\n",
              "    .dataframe thead th {\n",
              "        text-align: right;\n",
              "    }\n",
              "</style>\n",
              "<table border=\"1\" class=\"dataframe\">\n",
              "  <thead>\n",
              "    <tr style=\"text-align: right;\">\n",
              "      <th></th>\n",
              "      <th>Date</th>\n",
              "      <th>Label</th>\n",
              "      <th>Top1</th>\n",
              "      <th>Top2</th>\n",
              "      <th>Top3</th>\n",
              "      <th>Top4</th>\n",
              "      <th>Top5</th>\n",
              "      <th>Top6</th>\n",
              "      <th>Top7</th>\n",
              "      <th>Top8</th>\n",
              "      <th>...</th>\n",
              "      <th>Top16</th>\n",
              "      <th>Top17</th>\n",
              "      <th>Top18</th>\n",
              "      <th>Top19</th>\n",
              "      <th>Top20</th>\n",
              "      <th>Top21</th>\n",
              "      <th>Top22</th>\n",
              "      <th>Top23</th>\n",
              "      <th>Top24</th>\n",
              "      <th>Top25</th>\n",
              "    </tr>\n",
              "  </thead>\n",
              "  <tbody>\n",
              "    <tr>\n",
              "      <th>0</th>\n",
              "      <td>2008-08-08</td>\n",
              "      <td>0</td>\n",
              "      <td>b\"Georgia 'downs two Russian warplanes' as cou...</td>\n",
              "      <td>b'BREAKING: Musharraf to be impeached.'</td>\n",
              "      <td>b'Russia Today: Columns of troops roll into So...</td>\n",
              "      <td>b'Russian tanks are moving towards the capital...</td>\n",
              "      <td>b\"Afghan children raped with 'impunity,' U.N. ...</td>\n",
              "      <td>b'150 Russian tanks have entered South Ossetia...</td>\n",
              "      <td>b\"Breaking: Georgia invades South Ossetia, Rus...</td>\n",
              "      <td>b\"The 'enemy combatent' trials are nothing but...</td>\n",
              "      <td>...</td>\n",
              "      <td>b'Georgia Invades South Ossetia - if Russia ge...</td>\n",
              "      <td>b'Al-Qaeda Faces Islamist Backlash'</td>\n",
              "      <td>b'Condoleezza Rice: \"The US would not act to p...</td>\n",
              "      <td>b'This is a busy day:  The European Union has ...</td>\n",
              "      <td>b\"Georgia will withdraw 1,000 soldiers from Ir...</td>\n",
              "      <td>b'Why the Pentagon Thinks Attacking Iran is a ...</td>\n",
              "      <td>b'Caucasus in crisis: Georgia invades South Os...</td>\n",
              "      <td>b'Indian shoe manufactory  - And again in a se...</td>\n",
              "      <td>b'Visitors Suffering from Mental Illnesses Ban...</td>\n",
              "      <td>b\"No Help for Mexico's Kidnapping Surge\"</td>\n",
              "    </tr>\n",
              "    <tr>\n",
              "      <th>1</th>\n",
              "      <td>2008-08-11</td>\n",
              "      <td>1</td>\n",
              "      <td>b'Why wont America and Nato help us? If they w...</td>\n",
              "      <td>b'Bush puts foot down on Georgian conflict'</td>\n",
              "      <td>b\"Jewish Georgian minister: Thanks to Israeli ...</td>\n",
              "      <td>b'Georgian army flees in disarray as Russians ...</td>\n",
              "      <td>b\"Olympic opening ceremony fireworks 'faked'\"</td>\n",
              "      <td>b'What were the Mossad with fraudulent New Zea...</td>\n",
              "      <td>b'Russia angered by Israeli military sale to G...</td>\n",
              "      <td>b'An American citizen living in S.Ossetia blam...</td>\n",
              "      <td>...</td>\n",
              "      <td>b'Israel and the US behind the Georgian aggres...</td>\n",
              "      <td>b'\"Do not believe TV, neither Russian nor Geor...</td>\n",
              "      <td>b'Riots are still going on in Montreal (Canada...</td>\n",
              "      <td>b'China to overtake US as largest manufacturer'</td>\n",
              "      <td>b'War in South Ossetia [PICS]'</td>\n",
              "      <td>b'Israeli Physicians Group Condemns State Tort...</td>\n",
              "      <td>b' Russia has just beaten the United States ov...</td>\n",
              "      <td>b'Perhaps *the* question about the Georgia - R...</td>\n",
              "      <td>b'Russia is so much better at war'</td>\n",
              "      <td>b\"So this is what it's come to: trading sex fo...</td>\n",
              "    </tr>\n",
              "    <tr>\n",
              "      <th>2</th>\n",
              "      <td>2008-08-12</td>\n",
              "      <td>0</td>\n",
              "      <td>b'Remember that adorable 9-year-old who sang a...</td>\n",
              "      <td>b\"Russia 'ends Georgia operation'\"</td>\n",
              "      <td>b'\"If we had no sexual harassment we would hav...</td>\n",
              "      <td>b\"Al-Qa'eda is losing support in Iraq because ...</td>\n",
              "      <td>b'Ceasefire in Georgia: Putin Outmaneuvers the...</td>\n",
              "      <td>b'Why Microsoft and Intel tried to kill the XO...</td>\n",
              "      <td>b'Stratfor: The Russo-Georgian War and the Bal...</td>\n",
              "      <td>b\"I'm Trying to Get a Sense of This Whole Geor...</td>\n",
              "      <td>...</td>\n",
              "      <td>b'U.S. troops still in Georgia (did you know t...</td>\n",
              "      <td>b'Why Russias response to Georgia was right'</td>\n",
              "      <td>b'Gorbachev accuses U.S. of making a \"serious ...</td>\n",
              "      <td>b'Russia, Georgia, and NATO: Cold War Two'</td>\n",
              "      <td>b'Remember that adorable 62-year-old who led y...</td>\n",
              "      <td>b'War in Georgia: The Israeli connection'</td>\n",
              "      <td>b'All signs point to the US encouraging Georgi...</td>\n",
              "      <td>b'Christopher King argues that the US and NATO...</td>\n",
              "      <td>b'America: The New Mexico?'</td>\n",
              "      <td>b\"BBC NEWS | Asia-Pacific | Extinction 'by man...</td>\n",
              "    </tr>\n",
              "    <tr>\n",
              "      <th>3</th>\n",
              "      <td>2008-08-13</td>\n",
              "      <td>0</td>\n",
              "      <td>b' U.S. refuses Israel weapons to attack Iran:...</td>\n",
              "      <td>b\"When the president ordered to attack Tskhinv...</td>\n",
              "      <td>b' Israel clears troops who killed Reuters cam...</td>\n",
              "      <td>b'Britain\\'s policy of being tough on drugs is...</td>\n",
              "      <td>b'Body of 14 year old found in trunk; Latest (...</td>\n",
              "      <td>b'China has moved 10 *million* quake survivors...</td>\n",
              "      <td>b\"Bush announces Operation Get All Up In Russi...</td>\n",
              "      <td>b'Russian forces sink Georgian ships '</td>\n",
              "      <td>...</td>\n",
              "      <td>b'Elephants extinct by 2020?'</td>\n",
              "      <td>b'US humanitarian missions soon in Georgia - i...</td>\n",
              "      <td>b\"Georgia's DDOS came from US sources\"</td>\n",
              "      <td>b'Russian convoy heads into Georgia, violating...</td>\n",
              "      <td>b'Israeli defence minister: US against strike ...</td>\n",
              "      <td>b'Gorbachev: We Had No Choice'</td>\n",
              "      <td>b'Witness: Russian forces head towards Tbilisi...</td>\n",
              "      <td>b' Quarter of Russians blame U.S. for conflict...</td>\n",
              "      <td>b'Georgian president  says US military will ta...</td>\n",
              "      <td>b'2006: Nobel laureate Aleksander Solzhenitsyn...</td>\n",
              "    </tr>\n",
              "    <tr>\n",
              "      <th>4</th>\n",
              "      <td>2008-08-14</td>\n",
              "      <td>1</td>\n",
              "      <td>b'All the experts admit that we should legalis...</td>\n",
              "      <td>b'War in South Osetia - 89 pictures made by a ...</td>\n",
              "      <td>b'Swedish wrestler Ara Abrahamian throws away ...</td>\n",
              "      <td>b'Russia exaggerated the death toll in South O...</td>\n",
              "      <td>b'Missile That Killed 9 Inside Pakistan May Ha...</td>\n",
              "      <td>b\"Rushdie Condemns Random House's Refusal to P...</td>\n",
              "      <td>b'Poland and US agree to missle defense deal. ...</td>\n",
              "      <td>b'Will the Russians conquer Tblisi? Bet on it,...</td>\n",
              "      <td>...</td>\n",
              "      <td>b'Bank analyst forecast Georgian crisis 2 days...</td>\n",
              "      <td>b\"Georgia confict could set back Russia's US r...</td>\n",
              "      <td>b'War in the Caucasus is as much the product o...</td>\n",
              "      <td>b'\"Non-media\" photos of South Ossetia/Georgia ...</td>\n",
              "      <td>b'Georgian TV reporter shot by Russian sniper ...</td>\n",
              "      <td>b'Saudi Arabia: Mother moves to block child ma...</td>\n",
              "      <td>b'Taliban wages war on humanitarian aid workers'</td>\n",
              "      <td>b'Russia: World  \"can forget about\" Georgia\\'s...</td>\n",
              "      <td>b'Darfur rebels accuse Sudan of mounting major...</td>\n",
              "      <td>b'Philippines : Peace Advocate say Muslims nee...</td>\n",
              "    </tr>\n",
              "  </tbody>\n",
              "</table>\n",
              "<p>5 rows × 27 columns</p>\n",
              "</div>"
            ],
            "text/plain": [
              "         Date  Label                                               Top1  \\\n",
              "0  2008-08-08      0  b\"Georgia 'downs two Russian warplanes' as cou...   \n",
              "1  2008-08-11      1  b'Why wont America and Nato help us? If they w...   \n",
              "2  2008-08-12      0  b'Remember that adorable 9-year-old who sang a...   \n",
              "3  2008-08-13      0  b' U.S. refuses Israel weapons to attack Iran:...   \n",
              "4  2008-08-14      1  b'All the experts admit that we should legalis...   \n",
              "\n",
              "                                                Top2  \\\n",
              "0            b'BREAKING: Musharraf to be impeached.'   \n",
              "1        b'Bush puts foot down on Georgian conflict'   \n",
              "2                 b\"Russia 'ends Georgia operation'\"   \n",
              "3  b\"When the president ordered to attack Tskhinv...   \n",
              "4  b'War in South Osetia - 89 pictures made by a ...   \n",
              "\n",
              "                                                Top3  \\\n",
              "0  b'Russia Today: Columns of troops roll into So...   \n",
              "1  b\"Jewish Georgian minister: Thanks to Israeli ...   \n",
              "2  b'\"If we had no sexual harassment we would hav...   \n",
              "3  b' Israel clears troops who killed Reuters cam...   \n",
              "4  b'Swedish wrestler Ara Abrahamian throws away ...   \n",
              "\n",
              "                                                Top4  \\\n",
              "0  b'Russian tanks are moving towards the capital...   \n",
              "1  b'Georgian army flees in disarray as Russians ...   \n",
              "2  b\"Al-Qa'eda is losing support in Iraq because ...   \n",
              "3  b'Britain\\'s policy of being tough on drugs is...   \n",
              "4  b'Russia exaggerated the death toll in South O...   \n",
              "\n",
              "                                                Top5  \\\n",
              "0  b\"Afghan children raped with 'impunity,' U.N. ...   \n",
              "1      b\"Olympic opening ceremony fireworks 'faked'\"   \n",
              "2  b'Ceasefire in Georgia: Putin Outmaneuvers the...   \n",
              "3  b'Body of 14 year old found in trunk; Latest (...   \n",
              "4  b'Missile That Killed 9 Inside Pakistan May Ha...   \n",
              "\n",
              "                                                Top6  \\\n",
              "0  b'150 Russian tanks have entered South Ossetia...   \n",
              "1  b'What were the Mossad with fraudulent New Zea...   \n",
              "2  b'Why Microsoft and Intel tried to kill the XO...   \n",
              "3  b'China has moved 10 *million* quake survivors...   \n",
              "4  b\"Rushdie Condemns Random House's Refusal to P...   \n",
              "\n",
              "                                                Top7  \\\n",
              "0  b\"Breaking: Georgia invades South Ossetia, Rus...   \n",
              "1  b'Russia angered by Israeli military sale to G...   \n",
              "2  b'Stratfor: The Russo-Georgian War and the Bal...   \n",
              "3  b\"Bush announces Operation Get All Up In Russi...   \n",
              "4  b'Poland and US agree to missle defense deal. ...   \n",
              "\n",
              "                                                Top8  ...  \\\n",
              "0  b\"The 'enemy combatent' trials are nothing but...  ...   \n",
              "1  b'An American citizen living in S.Ossetia blam...  ...   \n",
              "2  b\"I'm Trying to Get a Sense of This Whole Geor...  ...   \n",
              "3             b'Russian forces sink Georgian ships '  ...   \n",
              "4  b'Will the Russians conquer Tblisi? Bet on it,...  ...   \n",
              "\n",
              "                                               Top16  \\\n",
              "0  b'Georgia Invades South Ossetia - if Russia ge...   \n",
              "1  b'Israel and the US behind the Georgian aggres...   \n",
              "2  b'U.S. troops still in Georgia (did you know t...   \n",
              "3                      b'Elephants extinct by 2020?'   \n",
              "4  b'Bank analyst forecast Georgian crisis 2 days...   \n",
              "\n",
              "                                               Top17  \\\n",
              "0                b'Al-Qaeda Faces Islamist Backlash'   \n",
              "1  b'\"Do not believe TV, neither Russian nor Geor...   \n",
              "2       b'Why Russias response to Georgia was right'   \n",
              "3  b'US humanitarian missions soon in Georgia - i...   \n",
              "4  b\"Georgia confict could set back Russia's US r...   \n",
              "\n",
              "                                               Top18  \\\n",
              "0  b'Condoleezza Rice: \"The US would not act to p...   \n",
              "1  b'Riots are still going on in Montreal (Canada...   \n",
              "2  b'Gorbachev accuses U.S. of making a \"serious ...   \n",
              "3             b\"Georgia's DDOS came from US sources\"   \n",
              "4  b'War in the Caucasus is as much the product o...   \n",
              "\n",
              "                                               Top19  \\\n",
              "0  b'This is a busy day:  The European Union has ...   \n",
              "1    b'China to overtake US as largest manufacturer'   \n",
              "2         b'Russia, Georgia, and NATO: Cold War Two'   \n",
              "3  b'Russian convoy heads into Georgia, violating...   \n",
              "4  b'\"Non-media\" photos of South Ossetia/Georgia ...   \n",
              "\n",
              "                                               Top20  \\\n",
              "0  b\"Georgia will withdraw 1,000 soldiers from Ir...   \n",
              "1                     b'War in South Ossetia [PICS]'   \n",
              "2  b'Remember that adorable 62-year-old who led y...   \n",
              "3  b'Israeli defence minister: US against strike ...   \n",
              "4  b'Georgian TV reporter shot by Russian sniper ...   \n",
              "\n",
              "                                               Top21  \\\n",
              "0  b'Why the Pentagon Thinks Attacking Iran is a ...   \n",
              "1  b'Israeli Physicians Group Condemns State Tort...   \n",
              "2          b'War in Georgia: The Israeli connection'   \n",
              "3                     b'Gorbachev: We Had No Choice'   \n",
              "4  b'Saudi Arabia: Mother moves to block child ma...   \n",
              "\n",
              "                                               Top22  \\\n",
              "0  b'Caucasus in crisis: Georgia invades South Os...   \n",
              "1  b' Russia has just beaten the United States ov...   \n",
              "2  b'All signs point to the US encouraging Georgi...   \n",
              "3  b'Witness: Russian forces head towards Tbilisi...   \n",
              "4   b'Taliban wages war on humanitarian aid workers'   \n",
              "\n",
              "                                               Top23  \\\n",
              "0  b'Indian shoe manufactory  - And again in a se...   \n",
              "1  b'Perhaps *the* question about the Georgia - R...   \n",
              "2  b'Christopher King argues that the US and NATO...   \n",
              "3  b' Quarter of Russians blame U.S. for conflict...   \n",
              "4  b'Russia: World  \"can forget about\" Georgia\\'s...   \n",
              "\n",
              "                                               Top24  \\\n",
              "0  b'Visitors Suffering from Mental Illnesses Ban...   \n",
              "1                 b'Russia is so much better at war'   \n",
              "2                        b'America: The New Mexico?'   \n",
              "3  b'Georgian president  says US military will ta...   \n",
              "4  b'Darfur rebels accuse Sudan of mounting major...   \n",
              "\n",
              "                                               Top25  \n",
              "0           b\"No Help for Mexico's Kidnapping Surge\"  \n",
              "1  b\"So this is what it's come to: trading sex fo...  \n",
              "2  b\"BBC NEWS | Asia-Pacific | Extinction 'by man...  \n",
              "3  b'2006: Nobel laureate Aleksander Solzhenitsyn...  \n",
              "4  b'Philippines : Peace Advocate say Muslims nee...  \n",
              "\n",
              "[5 rows x 27 columns]"
            ]
          },
          "metadata": {
            "tags": []
          },
          "execution_count": 9
        }
      ]
    },
    {
      "cell_type": "code",
      "metadata": {
        "id": "AXGEGuL8BpnC"
      },
      "source": [
        "\"\"\"\n",
        "loading stock values\n",
        "\"\"\"\n",
        "Stock=pd.read_csv(\"/home/suzi/Downloads/archive/upload_DJIA_table.csv\")"
      ],
      "execution_count": null,
      "outputs": []
    },
    {
      "cell_type": "code",
      "metadata": {
        "id": "--q2lN6VCZwS",
        "outputId": "40893adb-6c8d-4c07-8266-4ddc60fc6c61",
        "colab": {
          "base_uri": "https://localhost:8080/",
          "height": 204
        }
      },
      "source": [
        "Stock.head()"
      ],
      "execution_count": null,
      "outputs": [
        {
          "output_type": "execute_result",
          "data": {
            "text/html": [
              "<div>\n",
              "<style scoped>\n",
              "    .dataframe tbody tr th:only-of-type {\n",
              "        vertical-align: middle;\n",
              "    }\n",
              "\n",
              "    .dataframe tbody tr th {\n",
              "        vertical-align: top;\n",
              "    }\n",
              "\n",
              "    .dataframe thead th {\n",
              "        text-align: right;\n",
              "    }\n",
              "</style>\n",
              "<table border=\"1\" class=\"dataframe\">\n",
              "  <thead>\n",
              "    <tr style=\"text-align: right;\">\n",
              "      <th></th>\n",
              "      <th>Date</th>\n",
              "      <th>Open</th>\n",
              "      <th>High</th>\n",
              "      <th>Low</th>\n",
              "      <th>Close</th>\n",
              "      <th>Volume</th>\n",
              "      <th>Adj Close</th>\n",
              "    </tr>\n",
              "  </thead>\n",
              "  <tbody>\n",
              "    <tr>\n",
              "      <th>0</th>\n",
              "      <td>2016-07-01</td>\n",
              "      <td>17924.240234</td>\n",
              "      <td>18002.380859</td>\n",
              "      <td>17916.910156</td>\n",
              "      <td>17949.369141</td>\n",
              "      <td>82160000</td>\n",
              "      <td>17949.369141</td>\n",
              "    </tr>\n",
              "    <tr>\n",
              "      <th>1</th>\n",
              "      <td>2016-06-30</td>\n",
              "      <td>17712.759766</td>\n",
              "      <td>17930.609375</td>\n",
              "      <td>17711.800781</td>\n",
              "      <td>17929.990234</td>\n",
              "      <td>133030000</td>\n",
              "      <td>17929.990234</td>\n",
              "    </tr>\n",
              "    <tr>\n",
              "      <th>2</th>\n",
              "      <td>2016-06-29</td>\n",
              "      <td>17456.019531</td>\n",
              "      <td>17704.509766</td>\n",
              "      <td>17456.019531</td>\n",
              "      <td>17694.679688</td>\n",
              "      <td>106380000</td>\n",
              "      <td>17694.679688</td>\n",
              "    </tr>\n",
              "    <tr>\n",
              "      <th>3</th>\n",
              "      <td>2016-06-28</td>\n",
              "      <td>17190.509766</td>\n",
              "      <td>17409.720703</td>\n",
              "      <td>17190.509766</td>\n",
              "      <td>17409.720703</td>\n",
              "      <td>112190000</td>\n",
              "      <td>17409.720703</td>\n",
              "    </tr>\n",
              "    <tr>\n",
              "      <th>4</th>\n",
              "      <td>2016-06-27</td>\n",
              "      <td>17355.210938</td>\n",
              "      <td>17355.210938</td>\n",
              "      <td>17063.080078</td>\n",
              "      <td>17140.240234</td>\n",
              "      <td>138740000</td>\n",
              "      <td>17140.240234</td>\n",
              "    </tr>\n",
              "  </tbody>\n",
              "</table>\n",
              "</div>"
            ],
            "text/plain": [
              "         Date          Open          High           Low         Close  \\\n",
              "0  2016-07-01  17924.240234  18002.380859  17916.910156  17949.369141   \n",
              "1  2016-06-30  17712.759766  17930.609375  17711.800781  17929.990234   \n",
              "2  2016-06-29  17456.019531  17704.509766  17456.019531  17694.679688   \n",
              "3  2016-06-28  17190.509766  17409.720703  17190.509766  17409.720703   \n",
              "4  2016-06-27  17355.210938  17355.210938  17063.080078  17140.240234   \n",
              "\n",
              "      Volume     Adj Close  \n",
              "0   82160000  17949.369141  \n",
              "1  133030000  17929.990234  \n",
              "2  106380000  17694.679688  \n",
              "3  112190000  17409.720703  \n",
              "4  138740000  17140.240234  "
            ]
          },
          "metadata": {
            "tags": []
          },
          "execution_count": 11
        }
      ]
    },
    {
      "cell_type": "code",
      "metadata": {
        "id": "ZMXqrRHtCbtv"
      },
      "source": [
        "\"\"\"\n",
        "Lets combine all the top 25 news together\n",
        "\"\"\"\n",
        "headlines = []\n",
        "for row in range(0,len(News.index)):\n",
        "    headlines.append(' '.join(str(x) for x in News.iloc[row,2:27]))"
      ],
      "execution_count": null,
      "outputs": []
    },
    {
      "cell_type": "code",
      "metadata": {
        "id": "WzhGPHG8Cv8s",
        "outputId": "4000c60f-f89d-4e8f-997d-e88e5624dd47",
        "colab": {
          "base_uri": "https://localhost:8080/",
          "height": 171
        }
      },
      "source": [
        "headlines[0]"
      ],
      "execution_count": null,
      "outputs": [
        {
          "output_type": "execute_result",
          "data": {
            "text/plain": [
              "'b\"Georgia \\'downs two Russian warplanes\\' as countries move to brink of war\" b\\'BREAKING: Musharraf to be impeached.\\' b\\'Russia Today: Columns of troops roll into South Ossetia; footage from fighting (YouTube)\\' b\\'Russian tanks are moving towards the capital of South Ossetia, which has reportedly been completely destroyed by Georgian artillery fire\\' b\"Afghan children raped with \\'impunity,\\' U.N. official says - this is sick, a three year old was raped and they do nothing\" b\\'150 Russian tanks have entered South Ossetia whilst Georgia shoots down two Russian jets.\\' b\"Breaking: Georgia invades South Ossetia, Russia warned it would intervene on SO\\'s side\" b\"The \\'enemy combatent\\' trials are nothing but a sham: Salim Haman has been sentenced to 5 1/2 years, but will be kept longer anyway just because they feel like it.\" b\\'Georgian troops retreat from S. Osettain capital, presumably leaving several hundred people killed. [VIDEO]\\' b\\'Did the U.S. Prep Georgia for War with Russia?\\' b\\'Rice Gives Green Light for Israel to Attack Iran: Says U.S. has no veto over Israeli military ops\\' b\\'Announcing:Class Action Lawsuit on Behalf of American Public Against the FBI\\' b\"So---Russia and Georgia are at war and the NYT\\'s top story is opening ceremonies of the Olympics?  What a fucking disgrace and yet further proof of the decline of journalism.\" b\"China tells Bush to stay out of other countries\\' affairs\" b\\'Did World War III start today?\\' b\\'Georgia Invades South Ossetia - if Russia gets involved, will NATO absorb Georgia and unleash a full scale war?\\' b\\'Al-Qaeda Faces Islamist Backlash\\' b\\'Condoleezza Rice: \"The US would not act to prevent an Israeli strike on Iran.\" Israeli Defense Minister Ehud Barak: \"Israel is prepared for uncompromising victory in the case of military hostilities.\"\\' b\\'This is a busy day:  The European Union has approved new sanctions against Iran in protest at its nuclear programme.\\' b\"Georgia will withdraw 1,000 soldiers from Iraq to help fight off Russian forces in Georgia\\'s breakaway region of South Ossetia\" b\\'Why the Pentagon Thinks Attacking Iran is a Bad Idea - US News &amp; World Report\\' b\\'Caucasus in crisis: Georgia invades South Ossetia\\' b\\'Indian shoe manufactory  - And again in a series of \"you do not like your work?\"\\' b\\'Visitors Suffering from Mental Illnesses Banned from Olympics\\' b\"No Help for Mexico\\'s Kidnapping Surge\"'"
            ]
          },
          "metadata": {
            "tags": []
          },
          "execution_count": 13
        }
      ]
    },
    {
      "cell_type": "markdown",
      "metadata": {
        "id": "xeLLok-KGZj5"
      },
      "source": [
        "## Data Cleaning"
      ]
    },
    {
      "cell_type": "code",
      "metadata": {
        "id": "0MDag7gTDEkq"
      },
      "source": [
        "\"\"\"\n",
        "cleaning the combined news\n",
        "\"\"\"\n",
        "clean_headlines = []\n",
        "for i in range(0, len(headlines)):\n",
        "  clean_headlines.append(re.sub(\"b[(')]+\", '', headlines[i] ))\n",
        "  clean_headlines[i] = re.sub('b[(\")]+', '', clean_headlines[i] )\n",
        "  clean_headlines[i] = re.sub(\"\\'\", '', clean_headlines[i] )"
      ],
      "execution_count": null,
      "outputs": []
    },
    {
      "cell_type": "code",
      "metadata": {
        "id": "jHIYEU3UHMG3",
        "outputId": "25d2b374-1e0b-4141-be7a-b49cb5dccc30",
        "colab": {
          "base_uri": "https://localhost:8080/",
          "height": 171
        }
      },
      "source": [
        "clean_headlines[0]"
      ],
      "execution_count": null,
      "outputs": [
        {
          "output_type": "execute_result",
          "data": {
            "text/plain": [
              "'Georgia downs two Russian warplanes as countries move to brink of war\" BREAKING: Musharraf to be impeached. Russia Today: Columns of troops roll into South Ossetia; footage from fighting (YouTube) Russian tanks are moving towards the capital of South Ossetia, which has reportedly been completely destroyed by Georgian artillery fire Afghan children raped with impunity, U.N. official says - this is sick, a three year old was raped and they do nothing\" 150 Russian tanks have entered South Ossetia whilst Georgia shoots down two Russian jets. Breaking: Georgia invades South Ossetia, Russia warned it would intervene on SOs side\" The enemy combatent trials are nothing but a sham: Salim Haman has been sentenced to 5 1/2 years, but will be kept longer anyway just because they feel like it.\" Georgian troops retreat from S. Osettain capital, presumably leaving several hundred people killed. [VIDEO] Did the U.S. Prep Georgia for War with Russia? Rice Gives Green Light for Israel to Attack Iran: Says U.S. has no veto over Israeli military ops Announcing:Class Action Lawsuit on Behalf of American Public Against the FBI So---Russia and Georgia are at war and the NYTs top story is opening ceremonies of the Olympics?  What a fucking disgrace and yet further proof of the decline of journalism.\" China tells Bush to stay out of other countries affairs\" Did World War III start today? Georgia Invades South Ossetia - if Russia gets involved, will NATO absorb Georgia and unleash a full scale war? Al-Qaeda Faces Islamist Backlash Condoleezza Rice: \"The US would not act to prevent an Israeli strike on Iran.\" Israeli Defense Minister Ehud Barak: \"Israel is prepared for uncompromising victory in the case of military hostilities.\" This is a busy day:  The European Union has approved new sanctions against Iran in protest at its nuclear programme. Georgia will withdraw 1,000 soldiers from Iraq to help fight off Russian forces in Georgias breakaway region of South Ossetia\" Why the Pentagon Thinks Attacking Iran is a Bad Idea - US News &amp; World Report Caucasus in crisis: Georgia invades South Ossetia Indian shoe manufactory  - And again in a series of \"you do not like your work?\" Visitors Suffering from Mental Illnesses Banned from Olympics No Help for Mexicos Kidnapping Surge\"'"
            ]
          },
          "metadata": {
            "tags": []
          },
          "execution_count": 15
        }
      ]
    },
    {
      "cell_type": "code",
      "metadata": {
        "id": "28eR3ig2HTWb"
      },
      "source": [
        "\"\"\"\n",
        "adding combined news to the dataframe\n",
        "\"\"\"\n",
        "News['Combined_News'] = clean_headlines"
      ],
      "execution_count": null,
      "outputs": []
    },
    {
      "cell_type": "code",
      "metadata": {
        "id": "G72n7ugRIJ1M",
        "outputId": "16fe262c-6c2e-4995-a29f-c59c054ddedb",
        "colab": {
          "base_uri": "https://localhost:8080/",
          "height": 683
        }
      },
      "source": [
        "News.head()"
      ],
      "execution_count": null,
      "outputs": [
        {
          "output_type": "execute_result",
          "data": {
            "text/html": [
              "<div>\n",
              "<style scoped>\n",
              "    .dataframe tbody tr th:only-of-type {\n",
              "        vertical-align: middle;\n",
              "    }\n",
              "\n",
              "    .dataframe tbody tr th {\n",
              "        vertical-align: top;\n",
              "    }\n",
              "\n",
              "    .dataframe thead th {\n",
              "        text-align: right;\n",
              "    }\n",
              "</style>\n",
              "<table border=\"1\" class=\"dataframe\">\n",
              "  <thead>\n",
              "    <tr style=\"text-align: right;\">\n",
              "      <th></th>\n",
              "      <th>Date</th>\n",
              "      <th>Label</th>\n",
              "      <th>Top1</th>\n",
              "      <th>Top2</th>\n",
              "      <th>Top3</th>\n",
              "      <th>Top4</th>\n",
              "      <th>Top5</th>\n",
              "      <th>Top6</th>\n",
              "      <th>Top7</th>\n",
              "      <th>Top8</th>\n",
              "      <th>...</th>\n",
              "      <th>Top17</th>\n",
              "      <th>Top18</th>\n",
              "      <th>Top19</th>\n",
              "      <th>Top20</th>\n",
              "      <th>Top21</th>\n",
              "      <th>Top22</th>\n",
              "      <th>Top23</th>\n",
              "      <th>Top24</th>\n",
              "      <th>Top25</th>\n",
              "      <th>Combined_News</th>\n",
              "    </tr>\n",
              "  </thead>\n",
              "  <tbody>\n",
              "    <tr>\n",
              "      <th>0</th>\n",
              "      <td>2008-08-08</td>\n",
              "      <td>0</td>\n",
              "      <td>b\"Georgia 'downs two Russian warplanes' as cou...</td>\n",
              "      <td>b'BREAKING: Musharraf to be impeached.'</td>\n",
              "      <td>b'Russia Today: Columns of troops roll into So...</td>\n",
              "      <td>b'Russian tanks are moving towards the capital...</td>\n",
              "      <td>b\"Afghan children raped with 'impunity,' U.N. ...</td>\n",
              "      <td>b'150 Russian tanks have entered South Ossetia...</td>\n",
              "      <td>b\"Breaking: Georgia invades South Ossetia, Rus...</td>\n",
              "      <td>b\"The 'enemy combatent' trials are nothing but...</td>\n",
              "      <td>...</td>\n",
              "      <td>b'Al-Qaeda Faces Islamist Backlash'</td>\n",
              "      <td>b'Condoleezza Rice: \"The US would not act to p...</td>\n",
              "      <td>b'This is a busy day:  The European Union has ...</td>\n",
              "      <td>b\"Georgia will withdraw 1,000 soldiers from Ir...</td>\n",
              "      <td>b'Why the Pentagon Thinks Attacking Iran is a ...</td>\n",
              "      <td>b'Caucasus in crisis: Georgia invades South Os...</td>\n",
              "      <td>b'Indian shoe manufactory  - And again in a se...</td>\n",
              "      <td>b'Visitors Suffering from Mental Illnesses Ban...</td>\n",
              "      <td>b\"No Help for Mexico's Kidnapping Surge\"</td>\n",
              "      <td>Georgia downs two Russian warplanes as countri...</td>\n",
              "    </tr>\n",
              "    <tr>\n",
              "      <th>1</th>\n",
              "      <td>2008-08-11</td>\n",
              "      <td>1</td>\n",
              "      <td>b'Why wont America and Nato help us? If they w...</td>\n",
              "      <td>b'Bush puts foot down on Georgian conflict'</td>\n",
              "      <td>b\"Jewish Georgian minister: Thanks to Israeli ...</td>\n",
              "      <td>b'Georgian army flees in disarray as Russians ...</td>\n",
              "      <td>b\"Olympic opening ceremony fireworks 'faked'\"</td>\n",
              "      <td>b'What were the Mossad with fraudulent New Zea...</td>\n",
              "      <td>b'Russia angered by Israeli military sale to G...</td>\n",
              "      <td>b'An American citizen living in S.Ossetia blam...</td>\n",
              "      <td>...</td>\n",
              "      <td>b'\"Do not believe TV, neither Russian nor Geor...</td>\n",
              "      <td>b'Riots are still going on in Montreal (Canada...</td>\n",
              "      <td>b'China to overtake US as largest manufacturer'</td>\n",
              "      <td>b'War in South Ossetia [PICS]'</td>\n",
              "      <td>b'Israeli Physicians Group Condemns State Tort...</td>\n",
              "      <td>b' Russia has just beaten the United States ov...</td>\n",
              "      <td>b'Perhaps *the* question about the Georgia - R...</td>\n",
              "      <td>b'Russia is so much better at war'</td>\n",
              "      <td>b\"So this is what it's come to: trading sex fo...</td>\n",
              "      <td>Why wont America and Nato help us? If they won...</td>\n",
              "    </tr>\n",
              "    <tr>\n",
              "      <th>2</th>\n",
              "      <td>2008-08-12</td>\n",
              "      <td>0</td>\n",
              "      <td>b'Remember that adorable 9-year-old who sang a...</td>\n",
              "      <td>b\"Russia 'ends Georgia operation'\"</td>\n",
              "      <td>b'\"If we had no sexual harassment we would hav...</td>\n",
              "      <td>b\"Al-Qa'eda is losing support in Iraq because ...</td>\n",
              "      <td>b'Ceasefire in Georgia: Putin Outmaneuvers the...</td>\n",
              "      <td>b'Why Microsoft and Intel tried to kill the XO...</td>\n",
              "      <td>b'Stratfor: The Russo-Georgian War and the Bal...</td>\n",
              "      <td>b\"I'm Trying to Get a Sense of This Whole Geor...</td>\n",
              "      <td>...</td>\n",
              "      <td>b'Why Russias response to Georgia was right'</td>\n",
              "      <td>b'Gorbachev accuses U.S. of making a \"serious ...</td>\n",
              "      <td>b'Russia, Georgia, and NATO: Cold War Two'</td>\n",
              "      <td>b'Remember that adorable 62-year-old who led y...</td>\n",
              "      <td>b'War in Georgia: The Israeli connection'</td>\n",
              "      <td>b'All signs point to the US encouraging Georgi...</td>\n",
              "      <td>b'Christopher King argues that the US and NATO...</td>\n",
              "      <td>b'America: The New Mexico?'</td>\n",
              "      <td>b\"BBC NEWS | Asia-Pacific | Extinction 'by man...</td>\n",
              "      <td>Remember that adorable 9-year-old who sang at ...</td>\n",
              "    </tr>\n",
              "    <tr>\n",
              "      <th>3</th>\n",
              "      <td>2008-08-13</td>\n",
              "      <td>0</td>\n",
              "      <td>b' U.S. refuses Israel weapons to attack Iran:...</td>\n",
              "      <td>b\"When the president ordered to attack Tskhinv...</td>\n",
              "      <td>b' Israel clears troops who killed Reuters cam...</td>\n",
              "      <td>b'Britain\\'s policy of being tough on drugs is...</td>\n",
              "      <td>b'Body of 14 year old found in trunk; Latest (...</td>\n",
              "      <td>b'China has moved 10 *million* quake survivors...</td>\n",
              "      <td>b\"Bush announces Operation Get All Up In Russi...</td>\n",
              "      <td>b'Russian forces sink Georgian ships '</td>\n",
              "      <td>...</td>\n",
              "      <td>b'US humanitarian missions soon in Georgia - i...</td>\n",
              "      <td>b\"Georgia's DDOS came from US sources\"</td>\n",
              "      <td>b'Russian convoy heads into Georgia, violating...</td>\n",
              "      <td>b'Israeli defence minister: US against strike ...</td>\n",
              "      <td>b'Gorbachev: We Had No Choice'</td>\n",
              "      <td>b'Witness: Russian forces head towards Tbilisi...</td>\n",
              "      <td>b' Quarter of Russians blame U.S. for conflict...</td>\n",
              "      <td>b'Georgian president  says US military will ta...</td>\n",
              "      <td>b'2006: Nobel laureate Aleksander Solzhenitsyn...</td>\n",
              "      <td>U.S. refuses Israel weapons to attack Iran: r...</td>\n",
              "    </tr>\n",
              "    <tr>\n",
              "      <th>4</th>\n",
              "      <td>2008-08-14</td>\n",
              "      <td>1</td>\n",
              "      <td>b'All the experts admit that we should legalis...</td>\n",
              "      <td>b'War in South Osetia - 89 pictures made by a ...</td>\n",
              "      <td>b'Swedish wrestler Ara Abrahamian throws away ...</td>\n",
              "      <td>b'Russia exaggerated the death toll in South O...</td>\n",
              "      <td>b'Missile That Killed 9 Inside Pakistan May Ha...</td>\n",
              "      <td>b\"Rushdie Condemns Random House's Refusal to P...</td>\n",
              "      <td>b'Poland and US agree to missle defense deal. ...</td>\n",
              "      <td>b'Will the Russians conquer Tblisi? Bet on it,...</td>\n",
              "      <td>...</td>\n",
              "      <td>b\"Georgia confict could set back Russia's US r...</td>\n",
              "      <td>b'War in the Caucasus is as much the product o...</td>\n",
              "      <td>b'\"Non-media\" photos of South Ossetia/Georgia ...</td>\n",
              "      <td>b'Georgian TV reporter shot by Russian sniper ...</td>\n",
              "      <td>b'Saudi Arabia: Mother moves to block child ma...</td>\n",
              "      <td>b'Taliban wages war on humanitarian aid workers'</td>\n",
              "      <td>b'Russia: World  \"can forget about\" Georgia\\'s...</td>\n",
              "      <td>b'Darfur rebels accuse Sudan of mounting major...</td>\n",
              "      <td>b'Philippines : Peace Advocate say Muslims nee...</td>\n",
              "      <td>All the experts admit that we should legalise ...</td>\n",
              "    </tr>\n",
              "  </tbody>\n",
              "</table>\n",
              "<p>5 rows × 28 columns</p>\n",
              "</div>"
            ],
            "text/plain": [
              "         Date  Label                                               Top1  \\\n",
              "0  2008-08-08      0  b\"Georgia 'downs two Russian warplanes' as cou...   \n",
              "1  2008-08-11      1  b'Why wont America and Nato help us? If they w...   \n",
              "2  2008-08-12      0  b'Remember that adorable 9-year-old who sang a...   \n",
              "3  2008-08-13      0  b' U.S. refuses Israel weapons to attack Iran:...   \n",
              "4  2008-08-14      1  b'All the experts admit that we should legalis...   \n",
              "\n",
              "                                                Top2  \\\n",
              "0            b'BREAKING: Musharraf to be impeached.'   \n",
              "1        b'Bush puts foot down on Georgian conflict'   \n",
              "2                 b\"Russia 'ends Georgia operation'\"   \n",
              "3  b\"When the president ordered to attack Tskhinv...   \n",
              "4  b'War in South Osetia - 89 pictures made by a ...   \n",
              "\n",
              "                                                Top3  \\\n",
              "0  b'Russia Today: Columns of troops roll into So...   \n",
              "1  b\"Jewish Georgian minister: Thanks to Israeli ...   \n",
              "2  b'\"If we had no sexual harassment we would hav...   \n",
              "3  b' Israel clears troops who killed Reuters cam...   \n",
              "4  b'Swedish wrestler Ara Abrahamian throws away ...   \n",
              "\n",
              "                                                Top4  \\\n",
              "0  b'Russian tanks are moving towards the capital...   \n",
              "1  b'Georgian army flees in disarray as Russians ...   \n",
              "2  b\"Al-Qa'eda is losing support in Iraq because ...   \n",
              "3  b'Britain\\'s policy of being tough on drugs is...   \n",
              "4  b'Russia exaggerated the death toll in South O...   \n",
              "\n",
              "                                                Top5  \\\n",
              "0  b\"Afghan children raped with 'impunity,' U.N. ...   \n",
              "1      b\"Olympic opening ceremony fireworks 'faked'\"   \n",
              "2  b'Ceasefire in Georgia: Putin Outmaneuvers the...   \n",
              "3  b'Body of 14 year old found in trunk; Latest (...   \n",
              "4  b'Missile That Killed 9 Inside Pakistan May Ha...   \n",
              "\n",
              "                                                Top6  \\\n",
              "0  b'150 Russian tanks have entered South Ossetia...   \n",
              "1  b'What were the Mossad with fraudulent New Zea...   \n",
              "2  b'Why Microsoft and Intel tried to kill the XO...   \n",
              "3  b'China has moved 10 *million* quake survivors...   \n",
              "4  b\"Rushdie Condemns Random House's Refusal to P...   \n",
              "\n",
              "                                                Top7  \\\n",
              "0  b\"Breaking: Georgia invades South Ossetia, Rus...   \n",
              "1  b'Russia angered by Israeli military sale to G...   \n",
              "2  b'Stratfor: The Russo-Georgian War and the Bal...   \n",
              "3  b\"Bush announces Operation Get All Up In Russi...   \n",
              "4  b'Poland and US agree to missle defense deal. ...   \n",
              "\n",
              "                                                Top8  ...  \\\n",
              "0  b\"The 'enemy combatent' trials are nothing but...  ...   \n",
              "1  b'An American citizen living in S.Ossetia blam...  ...   \n",
              "2  b\"I'm Trying to Get a Sense of This Whole Geor...  ...   \n",
              "3             b'Russian forces sink Georgian ships '  ...   \n",
              "4  b'Will the Russians conquer Tblisi? Bet on it,...  ...   \n",
              "\n",
              "                                               Top17  \\\n",
              "0                b'Al-Qaeda Faces Islamist Backlash'   \n",
              "1  b'\"Do not believe TV, neither Russian nor Geor...   \n",
              "2       b'Why Russias response to Georgia was right'   \n",
              "3  b'US humanitarian missions soon in Georgia - i...   \n",
              "4  b\"Georgia confict could set back Russia's US r...   \n",
              "\n",
              "                                               Top18  \\\n",
              "0  b'Condoleezza Rice: \"The US would not act to p...   \n",
              "1  b'Riots are still going on in Montreal (Canada...   \n",
              "2  b'Gorbachev accuses U.S. of making a \"serious ...   \n",
              "3             b\"Georgia's DDOS came from US sources\"   \n",
              "4  b'War in the Caucasus is as much the product o...   \n",
              "\n",
              "                                               Top19  \\\n",
              "0  b'This is a busy day:  The European Union has ...   \n",
              "1    b'China to overtake US as largest manufacturer'   \n",
              "2         b'Russia, Georgia, and NATO: Cold War Two'   \n",
              "3  b'Russian convoy heads into Georgia, violating...   \n",
              "4  b'\"Non-media\" photos of South Ossetia/Georgia ...   \n",
              "\n",
              "                                               Top20  \\\n",
              "0  b\"Georgia will withdraw 1,000 soldiers from Ir...   \n",
              "1                     b'War in South Ossetia [PICS]'   \n",
              "2  b'Remember that adorable 62-year-old who led y...   \n",
              "3  b'Israeli defence minister: US against strike ...   \n",
              "4  b'Georgian TV reporter shot by Russian sniper ...   \n",
              "\n",
              "                                               Top21  \\\n",
              "0  b'Why the Pentagon Thinks Attacking Iran is a ...   \n",
              "1  b'Israeli Physicians Group Condemns State Tort...   \n",
              "2          b'War in Georgia: The Israeli connection'   \n",
              "3                     b'Gorbachev: We Had No Choice'   \n",
              "4  b'Saudi Arabia: Mother moves to block child ma...   \n",
              "\n",
              "                                               Top22  \\\n",
              "0  b'Caucasus in crisis: Georgia invades South Os...   \n",
              "1  b' Russia has just beaten the United States ov...   \n",
              "2  b'All signs point to the US encouraging Georgi...   \n",
              "3  b'Witness: Russian forces head towards Tbilisi...   \n",
              "4   b'Taliban wages war on humanitarian aid workers'   \n",
              "\n",
              "                                               Top23  \\\n",
              "0  b'Indian shoe manufactory  - And again in a se...   \n",
              "1  b'Perhaps *the* question about the Georgia - R...   \n",
              "2  b'Christopher King argues that the US and NATO...   \n",
              "3  b' Quarter of Russians blame U.S. for conflict...   \n",
              "4  b'Russia: World  \"can forget about\" Georgia\\'s...   \n",
              "\n",
              "                                               Top24  \\\n",
              "0  b'Visitors Suffering from Mental Illnesses Ban...   \n",
              "1                 b'Russia is so much better at war'   \n",
              "2                        b'America: The New Mexico?'   \n",
              "3  b'Georgian president  says US military will ta...   \n",
              "4  b'Darfur rebels accuse Sudan of mounting major...   \n",
              "\n",
              "                                               Top25  \\\n",
              "0           b\"No Help for Mexico's Kidnapping Surge\"   \n",
              "1  b\"So this is what it's come to: trading sex fo...   \n",
              "2  b\"BBC NEWS | Asia-Pacific | Extinction 'by man...   \n",
              "3  b'2006: Nobel laureate Aleksander Solzhenitsyn...   \n",
              "4  b'Philippines : Peace Advocate say Muslims nee...   \n",
              "\n",
              "                                       Combined_News  \n",
              "0  Georgia downs two Russian warplanes as countri...  \n",
              "1  Why wont America and Nato help us? If they won...  \n",
              "2  Remember that adorable 9-year-old who sang at ...  \n",
              "3   U.S. refuses Israel weapons to attack Iran: r...  \n",
              "4  All the experts admit that we should legalise ...  \n",
              "\n",
              "[5 rows x 28 columns]"
            ]
          },
          "metadata": {
            "tags": []
          },
          "execution_count": 17
        }
      ]
    },
    {
      "cell_type": "code",
      "metadata": {
        "id": "K4vGkLiDIum-",
        "outputId": "2738d717-3926-4024-83b9-6247e880e113",
        "colab": {
          "base_uri": "https://localhost:8080/",
          "height": 102
        }
      },
      "source": [
        "print(News.columns)"
      ],
      "execution_count": null,
      "outputs": [
        {
          "output_type": "stream",
          "text": [
            "Index(['Date', 'Label', 'Top1', 'Top2', 'Top3', 'Top4', 'Top5', 'Top6', 'Top7',\n",
            "       'Top8', 'Top9', 'Top10', 'Top11', 'Top12', 'Top13', 'Top14', 'Top15',\n",
            "       'Top16', 'Top17', 'Top18', 'Top19', 'Top20', 'Top21', 'Top22', 'Top23',\n",
            "       'Top24', 'Top25', 'Combined_News'],\n",
            "      dtype='object')\n"
          ],
          "name": "stdout"
        }
      ]
    },
    {
      "cell_type": "code",
      "metadata": {
        "id": "UTXqKWwyI3nF",
        "outputId": "16cb2711-557a-4f75-db65-46ec527c0a72",
        "colab": {
          "base_uri": "https://localhost:8080/",
          "height": 510
        }
      },
      "source": [
        "\"\"\"\n",
        "checking for Null values\n",
        "\"\"\"\n",
        "News.isnull().sum()"
      ],
      "execution_count": null,
      "outputs": [
        {
          "output_type": "execute_result",
          "data": {
            "text/plain": [
              "Date             0\n",
              "Label            0\n",
              "Top1             0\n",
              "Top2             0\n",
              "Top3             0\n",
              "Top4             0\n",
              "Top5             0\n",
              "Top6             0\n",
              "Top7             0\n",
              "Top8             0\n",
              "Top9             0\n",
              "Top10            0\n",
              "Top11            0\n",
              "Top12            0\n",
              "Top13            0\n",
              "Top14            0\n",
              "Top15            0\n",
              "Top16            0\n",
              "Top17            0\n",
              "Top18            0\n",
              "Top19            0\n",
              "Top20            0\n",
              "Top21            0\n",
              "Top22            0\n",
              "Top23            1\n",
              "Top24            3\n",
              "Top25            3\n",
              "Combined_News    0\n",
              "dtype: int64"
            ]
          },
          "metadata": {
            "tags": []
          },
          "execution_count": 20
        }
      ]
    },
    {
      "cell_type": "code",
      "metadata": {
        "id": "9nSLm6FSI9qQ"
      },
      "source": [
        "all_headlines = ' '.join(News['Combined_News'].str.lower())"
      ],
      "execution_count": null,
      "outputs": []
    },
    {
      "cell_type": "code",
      "metadata": {
        "id": "0Fbe6vk5JLZF"
      },
      "source": [
        "\"\"\"\n",
        "removing stopwords\n",
        "\"\"\"\n",
        "stopwords = STOPWORDS\n",
        "stopwords.add('will')\n",
        "\n",
        "wordcloud = WordCloud(stopwords=stopwords, background_color=\"white\", max_words=500).generate(all_headlines)"
      ],
      "execution_count": null,
      "outputs": []
    },
    {
      "cell_type": "markdown",
      "metadata": {
        "id": "sajKvmskSLsx"
      },
      "source": [
        "## Data Visualization"
      ]
    },
    {
      "cell_type": "code",
      "metadata": {
        "id": "fTjrAFF1JOFm",
        "outputId": "8f502ab6-d0fb-4deb-dcf2-538c4c815562",
        "colab": {
          "base_uri": "https://localhost:8080/",
          "height": 310
        }
      },
      "source": [
        "rcParams['figure.figsize'] = 10, 20\n",
        "plt.imshow(wordcloud)\n",
        "plt.axis(\"off\")\n",
        "plt.show()"
      ],
      "execution_count": null,
      "outputs": [
        {
          "output_type": "display_data",
          "data": {
            "image/png": "[encoded data removed]",
            "text/plain": [
              "<Figure size 720x1440 with 1 Axes>"
            ]
          },
          "metadata": {
            "tags": [],
            "needs_background": "light"
          }
        }
      ]
    },
    {
      "cell_type": "code",
      "metadata": {
        "id": "ktkI96LIKAzA",
        "outputId": "ccfdac55-b131-4e41-e674-33442274b098",
        "colab": {
          "base_uri": "https://localhost:8080/",
          "height": 1000
        }
      },
      "source": [
        "News['Combined_News'].str.len().hist()\n",
        "plt.figure(figsize=(6,4))\n",
        "plt.show()"
      ],
      "execution_count": null,
      "outputs": [
        {
          "output_type": "display_data",
          "data": {
            "image/png": "[encoded data removed]",
            "text/plain": [
              "<Figure size 720x1440 with 1 Axes>"
            ]
          },
          "metadata": {
            "tags": [],
            "needs_background": "light"
          }
        },
        {
          "output_type": "display_data",
          "data": {
            "text/plain": [
              "<Figure size 432x288 with 0 Axes>"
            ]
          },
          "metadata": {
            "tags": []
          }
        }
      ]
    },
    {
      "cell_type": "code",
      "metadata": {
        "id": "XKrvZCsBKqBm",
        "outputId": "ae1ac31f-0583-4213-c16a-14819a23b3e1",
        "colab": {
          "base_uri": "https://localhost:8080/",
          "height": 204
        }
      },
      "source": [
        "Stock.head()"
      ],
      "execution_count": null,
      "outputs": [
        {
          "output_type": "execute_result",
          "data": {
            "text/html": [
              "<div>\n",
              "<style scoped>\n",
              "    .dataframe tbody tr th:only-of-type {\n",
              "        vertical-align: middle;\n",
              "    }\n",
              "\n",
              "    .dataframe tbody tr th {\n",
              "        vertical-align: top;\n",
              "    }\n",
              "\n",
              "    .dataframe thead th {\n",
              "        text-align: right;\n",
              "    }\n",
              "</style>\n",
              "<table border=\"1\" class=\"dataframe\">\n",
              "  <thead>\n",
              "    <tr style=\"text-align: right;\">\n",
              "      <th></th>\n",
              "      <th>Date</th>\n",
              "      <th>Open</th>\n",
              "      <th>High</th>\n",
              "      <th>Low</th>\n",
              "      <th>Close</th>\n",
              "      <th>Volume</th>\n",
              "      <th>Adj Close</th>\n",
              "    </tr>\n",
              "  </thead>\n",
              "  <tbody>\n",
              "    <tr>\n",
              "      <th>0</th>\n",
              "      <td>2016-07-01</td>\n",
              "      <td>17924.240234</td>\n",
              "      <td>18002.380859</td>\n",
              "      <td>17916.910156</td>\n",
              "      <td>17949.369141</td>\n",
              "      <td>82160000</td>\n",
              "      <td>17949.369141</td>\n",
              "    </tr>\n",
              "    <tr>\n",
              "      <th>1</th>\n",
              "      <td>2016-06-30</td>\n",
              "      <td>17712.759766</td>\n",
              "      <td>17930.609375</td>\n",
              "      <td>17711.800781</td>\n",
              "      <td>17929.990234</td>\n",
              "      <td>133030000</td>\n",
              "      <td>17929.990234</td>\n",
              "    </tr>\n",
              "    <tr>\n",
              "      <th>2</th>\n",
              "      <td>2016-06-29</td>\n",
              "      <td>17456.019531</td>\n",
              "      <td>17704.509766</td>\n",
              "      <td>17456.019531</td>\n",
              "      <td>17694.679688</td>\n",
              "      <td>106380000</td>\n",
              "      <td>17694.679688</td>\n",
              "    </tr>\n",
              "    <tr>\n",
              "      <th>3</th>\n",
              "      <td>2016-06-28</td>\n",
              "      <td>17190.509766</td>\n",
              "      <td>17409.720703</td>\n",
              "      <td>17190.509766</td>\n",
              "      <td>17409.720703</td>\n",
              "      <td>112190000</td>\n",
              "      <td>17409.720703</td>\n",
              "    </tr>\n",
              "    <tr>\n",
              "      <th>4</th>\n",
              "      <td>2016-06-27</td>\n",
              "      <td>17355.210938</td>\n",
              "      <td>17355.210938</td>\n",
              "      <td>17063.080078</td>\n",
              "      <td>17140.240234</td>\n",
              "      <td>138740000</td>\n",
              "      <td>17140.240234</td>\n",
              "    </tr>\n",
              "  </tbody>\n",
              "</table>\n",
              "</div>"
            ],
            "text/plain": [
              "         Date          Open          High           Low         Close  \\\n",
              "0  2016-07-01  17924.240234  18002.380859  17916.910156  17949.369141   \n",
              "1  2016-06-30  17712.759766  17930.609375  17711.800781  17929.990234   \n",
              "2  2016-06-29  17456.019531  17704.509766  17456.019531  17694.679688   \n",
              "3  2016-06-28  17190.509766  17409.720703  17190.509766  17409.720703   \n",
              "4  2016-06-27  17355.210938  17355.210938  17063.080078  17140.240234   \n",
              "\n",
              "      Volume     Adj Close  \n",
              "0   82160000  17949.369141  \n",
              "1  133030000  17929.990234  \n",
              "2  106380000  17694.679688  \n",
              "3  112190000  17409.720703  \n",
              "4  138740000  17140.240234  "
            ]
          },
          "metadata": {
            "tags": []
          },
          "execution_count": 32
        }
      ]
    },
    {
      "cell_type": "code",
      "metadata": {
        "id": "0ScK9xR2Lhfn",
        "outputId": "e862926c-135d-4da8-9357-50047cc445f7",
        "colab": {
          "base_uri": "https://localhost:8080/",
          "height": 297
        }
      },
      "source": [
        "Stock.describe()"
      ],
      "execution_count": null,
      "outputs": [
        {
          "output_type": "execute_result",
          "data": {
            "text/html": [
              "<div>\n",
              "<style scoped>\n",
              "    .dataframe tbody tr th:only-of-type {\n",
              "        vertical-align: middle;\n",
              "    }\n",
              "\n",
              "    .dataframe tbody tr th {\n",
              "        vertical-align: top;\n",
              "    }\n",
              "\n",
              "    .dataframe thead th {\n",
              "        text-align: right;\n",
              "    }\n",
              "</style>\n",
              "<table border=\"1\" class=\"dataframe\">\n",
              "  <thead>\n",
              "    <tr style=\"text-align: right;\">\n",
              "      <th></th>\n",
              "      <th>Open</th>\n",
              "      <th>High</th>\n",
              "      <th>Low</th>\n",
              "      <th>Close</th>\n",
              "      <th>Volume</th>\n",
              "      <th>Adj Close</th>\n",
              "    </tr>\n",
              "  </thead>\n",
              "  <tbody>\n",
              "    <tr>\n",
              "      <th>count</th>\n",
              "      <td>1989.000000</td>\n",
              "      <td>1989.000000</td>\n",
              "      <td>1989.000000</td>\n",
              "      <td>1989.000000</td>\n",
              "      <td>1.989000e+03</td>\n",
              "      <td>1989.000000</td>\n",
              "    </tr>\n",
              "    <tr>\n",
              "      <th>mean</th>\n",
              "      <td>13459.116048</td>\n",
              "      <td>13541.303173</td>\n",
              "      <td>13372.931728</td>\n",
              "      <td>13463.032255</td>\n",
              "      <td>1.628110e+08</td>\n",
              "      <td>13463.032255</td>\n",
              "    </tr>\n",
              "    <tr>\n",
              "      <th>std</th>\n",
              "      <td>3143.281634</td>\n",
              "      <td>3136.271725</td>\n",
              "      <td>3150.420934</td>\n",
              "      <td>3144.006996</td>\n",
              "      <td>9.392343e+07</td>\n",
              "      <td>3144.006996</td>\n",
              "    </tr>\n",
              "    <tr>\n",
              "      <th>min</th>\n",
              "      <td>6547.009766</td>\n",
              "      <td>6709.609863</td>\n",
              "      <td>6469.950195</td>\n",
              "      <td>6547.049805</td>\n",
              "      <td>8.410000e+06</td>\n",
              "      <td>6547.049805</td>\n",
              "    </tr>\n",
              "    <tr>\n",
              "      <th>25%</th>\n",
              "      <td>10907.339844</td>\n",
              "      <td>11000.980469</td>\n",
              "      <td>10824.759766</td>\n",
              "      <td>10913.379883</td>\n",
              "      <td>1.000000e+08</td>\n",
              "      <td>10913.379883</td>\n",
              "    </tr>\n",
              "    <tr>\n",
              "      <th>50%</th>\n",
              "      <td>13022.049805</td>\n",
              "      <td>13088.110352</td>\n",
              "      <td>12953.129883</td>\n",
              "      <td>13025.580078</td>\n",
              "      <td>1.351700e+08</td>\n",
              "      <td>13025.580078</td>\n",
              "    </tr>\n",
              "    <tr>\n",
              "      <th>75%</th>\n",
              "      <td>16477.699219</td>\n",
              "      <td>16550.070312</td>\n",
              "      <td>16392.769531</td>\n",
              "      <td>16478.410156</td>\n",
              "      <td>1.926000e+08</td>\n",
              "      <td>16478.410156</td>\n",
              "    </tr>\n",
              "    <tr>\n",
              "      <th>max</th>\n",
              "      <td>18315.060547</td>\n",
              "      <td>18351.359375</td>\n",
              "      <td>18272.560547</td>\n",
              "      <td>18312.390625</td>\n",
              "      <td>6.749200e+08</td>\n",
              "      <td>18312.390625</td>\n",
              "    </tr>\n",
              "  </tbody>\n",
              "</table>\n",
              "</div>"
            ],
            "text/plain": [
              "               Open          High           Low         Close        Volume  \\\n",
              "count   1989.000000   1989.000000   1989.000000   1989.000000  1.989000e+03   \n",
              "mean   13459.116048  13541.303173  13372.931728  13463.032255  1.628110e+08   \n",
              "std     3143.281634   3136.271725   3150.420934   3144.006996  9.392343e+07   \n",
              "min     6547.009766   6709.609863   6469.950195   6547.049805  8.410000e+06   \n",
              "25%    10907.339844  11000.980469  10824.759766  10913.379883  1.000000e+08   \n",
              "50%    13022.049805  13088.110352  12953.129883  13025.580078  1.351700e+08   \n",
              "75%    16477.699219  16550.070312  16392.769531  16478.410156  1.926000e+08   \n",
              "max    18315.060547  18351.359375  18272.560547  18312.390625  6.749200e+08   \n",
              "\n",
              "          Adj Close  \n",
              "count   1989.000000  \n",
              "mean   13463.032255  \n",
              "std     3144.006996  \n",
              "min     6547.049805  \n",
              "25%    10913.379883  \n",
              "50%    13025.580078  \n",
              "75%    16478.410156  \n",
              "max    18312.390625  "
            ]
          },
          "metadata": {
            "tags": []
          },
          "execution_count": 37
        }
      ]
    },
    {
      "cell_type": "code",
      "metadata": {
        "id": "YP4Vz_lTLkj3",
        "outputId": "fc879ed0-2f34-40e7-e6d6-38fcc40fb360",
        "colab": {
          "base_uri": "https://localhost:8080/",
          "height": 255
        }
      },
      "source": [
        "Stock.info()"
      ],
      "execution_count": null,
      "outputs": [
        {
          "output_type": "stream",
          "text": [
            "<class 'pandas.core.frame.DataFrame'>\n",
            "RangeIndex: 1989 entries, 0 to 1988\n",
            "Data columns (total 7 columns):\n",
            " #   Column     Non-Null Count  Dtype  \n",
            "---  ------     --------------  -----  \n",
            " 0   Date       1989 non-null   object \n",
            " 1   Open       1989 non-null   float64\n",
            " 2   High       1989 non-null   float64\n",
            " 3   Low        1989 non-null   float64\n",
            " 4   Close      1989 non-null   float64\n",
            " 5   Volume     1989 non-null   int64  \n",
            " 6   Adj Close  1989 non-null   float64\n",
            "dtypes: float64(5), int64(1), object(1)\n",
            "memory usage: 108.9+ KB\n"
          ],
          "name": "stdout"
        }
      ]
    },
    {
      "cell_type": "code",
      "metadata": {
        "id": "RCXXo46PLxLd",
        "outputId": "7259986f-c6bf-4cd5-d9c7-28b0fb29c844",
        "colab": {
          "base_uri": "https://localhost:8080/",
          "height": 153
        }
      },
      "source": [
        "Stock.isnull().sum()"
      ],
      "execution_count": null,
      "outputs": [
        {
          "output_type": "execute_result",
          "data": {
            "text/plain": [
              "Date         0\n",
              "Open         0\n",
              "High         0\n",
              "Low          0\n",
              "Close        0\n",
              "Volume       0\n",
              "Adj Close    0\n",
              "dtype: int64"
            ]
          },
          "metadata": {
            "tags": []
          },
          "execution_count": 39
        }
      ]
    },
    {
      "cell_type": "code",
      "metadata": {
        "id": "rNfTqP1lL2TQ",
        "outputId": "7aa26abb-4f1e-4c92-9a5a-f391237bf7cb",
        "colab": {
          "base_uri": "https://localhost:8080/",
          "height": 416
        }
      },
      "source": [
        "plt.figure(figsize=(12,6))\n",
        "plt.title('Stocks', fontsize = 18)\n",
        "plt.xlabel('Days', fontsize= 18)\n",
        "plt.ylabel('Close', fontsize = 18)\n",
        "plt.plot(Stock['Close'])\n",
        "plt.show()"
      ],
      "execution_count": null,
      "outputs": [
        {
          "output_type": "display_data",
          "data": {
            "image/png": "[encoded data removed]",
            "text/plain": [
              "<Figure size 864x432 with 1 Axes>"
            ]
          },
          "metadata": {
            "tags": [],
            "needs_background": "light"
          }
        }
      ]
    },
    {
      "cell_type": "code",
      "metadata": {
        "id": "S_8n1BSaMps4"
      },
      "source": [
        "\"\"\"\n",
        "filling 0 to the null values\n",
        "\"\"\"\n",
        "Stock.fillna(0,inplace=True)"
      ],
      "execution_count": null,
      "outputs": []
    },
    {
      "cell_type": "code",
      "metadata": {
        "id": "BnRBGSHtOVfU",
        "outputId": "c87d7bb2-1517-4015-d42a-14efa2507821",
        "colab": {
          "base_uri": "https://localhost:8080/",
          "height": 34
        }
      },
      "source": [
        "Stock.shape"
      ],
      "execution_count": null,
      "outputs": [
        {
          "output_type": "execute_result",
          "data": {
            "text/plain": [
              "(1989, 7)"
            ]
          },
          "metadata": {
            "tags": []
          },
          "execution_count": 43
        }
      ]
    },
    {
      "cell_type": "code",
      "metadata": {
        "id": "kmU1Z6rHM3Ox"
      },
      "source": [
        "\"\"\"\n",
        "Splitting data into train and valid\n",
        "\"\"\"\n",
        "train = Stock[:700]\n",
        "valid = Stock[700:]"
      ],
      "execution_count": null,
      "outputs": []
    },
    {
      "cell_type": "code",
      "metadata": {
        "id": "j55GjmQyNISC",
        "outputId": "63d6d7f4-bd7b-4170-ad97-604bcaacd5d8",
        "colab": {
          "base_uri": "https://localhost:8080/",
          "height": 204
        }
      },
      "source": [
        "train.head()"
      ],
      "execution_count": null,
      "outputs": [
        {
          "output_type": "execute_result",
          "data": {
            "text/html": [
              "<div>\n",
              "<style scoped>\n",
              "    .dataframe tbody tr th:only-of-type {\n",
              "        vertical-align: middle;\n",
              "    }\n",
              "\n",
              "    .dataframe tbody tr th {\n",
              "        vertical-align: top;\n",
              "    }\n",
              "\n",
              "    .dataframe thead th {\n",
              "        text-align: right;\n",
              "    }\n",
              "</style>\n",
              "<table border=\"1\" class=\"dataframe\">\n",
              "  <thead>\n",
              "    <tr style=\"text-align: right;\">\n",
              "      <th></th>\n",
              "      <th>Date</th>\n",
              "      <th>Open</th>\n",
              "      <th>High</th>\n",
              "      <th>Low</th>\n",
              "      <th>Close</th>\n",
              "      <th>Volume</th>\n",
              "      <th>Adj Close</th>\n",
              "    </tr>\n",
              "  </thead>\n",
              "  <tbody>\n",
              "    <tr>\n",
              "      <th>0</th>\n",
              "      <td>2016-07-01</td>\n",
              "      <td>17924.240234</td>\n",
              "      <td>18002.380859</td>\n",
              "      <td>17916.910156</td>\n",
              "      <td>17949.369141</td>\n",
              "      <td>82160000</td>\n",
              "      <td>17949.369141</td>\n",
              "    </tr>\n",
              "    <tr>\n",
              "      <th>1</th>\n",
              "      <td>2016-06-30</td>\n",
              "      <td>17712.759766</td>\n",
              "      <td>17930.609375</td>\n",
              "      <td>17711.800781</td>\n",
              "      <td>17929.990234</td>\n",
              "      <td>133030000</td>\n",
              "      <td>17929.990234</td>\n",
              "    </tr>\n",
              "    <tr>\n",
              "      <th>2</th>\n",
              "      <td>2016-06-29</td>\n",
              "      <td>17456.019531</td>\n",
              "      <td>17704.509766</td>\n",
              "      <td>17456.019531</td>\n",
              "      <td>17694.679688</td>\n",
              "      <td>106380000</td>\n",
              "      <td>17694.679688</td>\n",
              "    </tr>\n",
              "    <tr>\n",
              "      <th>3</th>\n",
              "      <td>2016-06-28</td>\n",
              "      <td>17190.509766</td>\n",
              "      <td>17409.720703</td>\n",
              "      <td>17190.509766</td>\n",
              "      <td>17409.720703</td>\n",
              "      <td>112190000</td>\n",
              "      <td>17409.720703</td>\n",
              "    </tr>\n",
              "    <tr>\n",
              "      <th>4</th>\n",
              "      <td>2016-06-27</td>\n",
              "      <td>17355.210938</td>\n",
              "      <td>17355.210938</td>\n",
              "      <td>17063.080078</td>\n",
              "      <td>17140.240234</td>\n",
              "      <td>138740000</td>\n",
              "      <td>17140.240234</td>\n",
              "    </tr>\n",
              "  </tbody>\n",
              "</table>\n",
              "</div>"
            ],
            "text/plain": [
              "         Date          Open          High           Low         Close  \\\n",
              "0  2016-07-01  17924.240234  18002.380859  17916.910156  17949.369141   \n",
              "1  2016-06-30  17712.759766  17930.609375  17711.800781  17929.990234   \n",
              "2  2016-06-29  17456.019531  17704.509766  17456.019531  17694.679688   \n",
              "3  2016-06-28  17190.509766  17409.720703  17190.509766  17409.720703   \n",
              "4  2016-06-27  17355.210938  17355.210938  17063.080078  17140.240234   \n",
              "\n",
              "      Volume     Adj Close  \n",
              "0   82160000  17949.369141  \n",
              "1  133030000  17929.990234  \n",
              "2  106380000  17694.679688  \n",
              "3  112190000  17409.720703  \n",
              "4  138740000  17140.240234  "
            ]
          },
          "metadata": {
            "tags": []
          },
          "execution_count": 45
        }
      ]
    },
    {
      "cell_type": "code",
      "metadata": {
        "id": "eGOekF3YNJj1"
      },
      "source": [
        "training = train['Close']\n",
        "validation = valid['Close']"
      ],
      "execution_count": null,
      "outputs": []
    },
    {
      "cell_type": "code",
      "metadata": {
        "id": "Iz-7Sg9MNV_5",
        "outputId": "80190874-ca4f-4d96-91a0-b106f315880e",
        "colab": {
          "base_uri": "https://localhost:8080/",
          "height": 119
        }
      },
      "source": [
        "training.head()"
      ],
      "execution_count": null,
      "outputs": [
        {
          "output_type": "execute_result",
          "data": {
            "text/plain": [
              "0    17949.369141\n",
              "1    17929.990234\n",
              "2    17694.679688\n",
              "3    17409.720703\n",
              "4    17140.240234\n",
              "Name: Close, dtype: float64"
            ]
          },
          "metadata": {
            "tags": []
          },
          "execution_count": 47
        }
      ]
    },
    {
      "cell_type": "markdown",
      "metadata": {
        "id": "wa7Uv11XOlKj"
      },
      "source": [
        "##**Training model**\n",
        "\n"
      ]
    },
    {
      "cell_type": "code",
      "metadata": {
        "id": "ZS1PRNSkObgK",
        "outputId": "34240584-2737-42e1-ccdd-fd67150379ec",
        "colab": {
          "base_uri": "https://localhost:8080/",
          "height": 323
        }
      },
      "source": [
        "model = pm.auto_arima(training, start_p=1, start_q=1,max_p=3, max_q=3, m=12,start_P=0, seasonal=True,d=1, D=1, trace=True,error_action='ignore',suppress_warnings=True)\n",
        "model.fit(training)"
      ],
      "execution_count": null,
      "outputs": [
        {
          "output_type": "stream",
          "text": [
            "Performing stepwise search to minimize aic\n",
            " ARIMA(1,1,1)(0,1,1)[12]             : AIC=inf, Time=6.41 sec\n",
            " ARIMA(0,1,0)(0,1,0)[12]             : AIC=9241.082, Time=0.07 sec\n",
            " ARIMA(1,1,0)(1,1,0)[12]             : AIC=9029.079, Time=1.19 sec\n",
            " ARIMA(0,1,1)(0,1,1)[12]             : AIC=inf, Time=3.00 sec\n",
            " ARIMA(1,1,0)(0,1,0)[12]             : AIC=9242.013, Time=0.07 sec\n",
            " ARIMA(1,1,0)(2,1,0)[12]             : AIC=8948.956, Time=2.81 sec\n",
            " ARIMA(1,1,0)(2,1,1)[12]             : AIC=inf, Time=14.32 sec\n",
            " ARIMA(1,1,0)(1,1,1)[12]             : AIC=inf, Time=4.68 sec\n",
            " ARIMA(0,1,0)(2,1,0)[12]             : AIC=8947.126, Time=0.84 sec\n",
            " ARIMA(0,1,0)(1,1,0)[12]             : AIC=9027.093, Time=0.75 sec\n",
            " ARIMA(0,1,0)(2,1,1)[12]             : AIC=inf, Time=9.29 sec\n",
            " ARIMA(0,1,0)(1,1,1)[12]             : AIC=inf, Time=3.24 sec\n",
            " ARIMA(0,1,1)(2,1,0)[12]             : AIC=8948.953, Time=3.08 sec\n",
            " ARIMA(1,1,1)(2,1,0)[12]             : AIC=inf, Time=19.93 sec\n",
            " ARIMA(0,1,0)(2,1,0)[12] intercept   : AIC=8949.081, Time=9.25 sec\n",
            "\n",
            "Best model:  ARIMA(0,1,0)(2,1,0)[12]          \n",
            "Total fit time: 79.009 seconds\n"
          ],
          "name": "stdout"
        },
        {
          "output_type": "execute_result",
          "data": {
            "text/plain": [
              "ARIMA(order=(0, 1, 0), scoring_args={}, seasonal_order=(2, 1, 0, 12),\n",
              "      suppress_warnings=True, with_intercept=False)"
            ]
          },
          "metadata": {
            "tags": []
          },
          "execution_count": 48
        }
      ]
    },
    {
      "cell_type": "markdown",
      "metadata": {
        "id": "mYsxKFBpOyte"
      },
      "source": [
        "## Prediction"
      ]
    },
    {
      "cell_type": "code",
      "metadata": {
        "id": "Jdtl1BxPOsey"
      },
      "source": [
        "forecast = model.predict(n_periods=1289)"
      ],
      "execution_count": null,
      "outputs": []
    },
    {
      "cell_type": "code",
      "metadata": {
        "id": "8OAVk7g8O-Ha"
      },
      "source": [
        "forecast = pd.DataFrame(forecast,index = valid.index,columns=['Prediction'])"
      ],
      "execution_count": null,
      "outputs": []
    },
    {
      "cell_type": "code",
      "metadata": {
        "id": "2LHSbkhjQBN6",
        "outputId": "d2c59a15-8366-44e1-d065-2bb80012a0c6",
        "colab": {
          "base_uri": "https://localhost:8080/",
          "height": 204
        }
      },
      "source": [
        "forecast.head()"
      ],
      "execution_count": null,
      "outputs": [
        {
          "output_type": "execute_result",
          "data": {
            "text/html": [
              "<div>\n",
              "<style scoped>\n",
              "    .dataframe tbody tr th:only-of-type {\n",
              "        vertical-align: middle;\n",
              "    }\n",
              "\n",
              "    .dataframe tbody tr th {\n",
              "        vertical-align: top;\n",
              "    }\n",
              "\n",
              "    .dataframe thead th {\n",
              "        text-align: right;\n",
              "    }\n",
              "</style>\n",
              "<table border=\"1\" class=\"dataframe\">\n",
              "  <thead>\n",
              "    <tr style=\"text-align: right;\">\n",
              "      <th></th>\n",
              "      <th>Prediction</th>\n",
              "    </tr>\n",
              "  </thead>\n",
              "  <tbody>\n",
              "    <tr>\n",
              "      <th>700</th>\n",
              "      <td>15382.232704</td>\n",
              "    </tr>\n",
              "    <tr>\n",
              "      <th>701</th>\n",
              "      <td>15387.290682</td>\n",
              "    </tr>\n",
              "    <tr>\n",
              "      <th>702</th>\n",
              "      <td>15390.660560</td>\n",
              "    </tr>\n",
              "    <tr>\n",
              "      <th>703</th>\n",
              "      <td>15392.365055</td>\n",
              "    </tr>\n",
              "    <tr>\n",
              "      <th>704</th>\n",
              "      <td>15391.969004</td>\n",
              "    </tr>\n",
              "  </tbody>\n",
              "</table>\n",
              "</div>"
            ],
            "text/plain": [
              "       Prediction\n",
              "700  15382.232704\n",
              "701  15387.290682\n",
              "702  15390.660560\n",
              "703  15392.365055\n",
              "704  15391.969004"
            ]
          },
          "metadata": {
            "tags": []
          },
          "execution_count": 51
        }
      ]
    },
    {
      "cell_type": "code",
      "metadata": {
        "id": "XsDnnaxhO-Fa",
        "outputId": "c08fe0d7-c9dd-4d6b-c5ae-11d6dfcae90a",
        "colab": {
          "base_uri": "https://localhost:8080/",
          "height": 34
        }
      },
      "source": [
        "rms=np.sqrt(np.mean(np.power((np.array(valid['Close'])-np.array(forecast['Prediction'])),2)))\n",
        "rms"
      ],
      "execution_count": null,
      "outputs": [
        {
          "output_type": "execute_result",
          "data": {
            "text/plain": [
              "4197.027326858622"
            ]
          },
          "metadata": {
            "tags": []
          },
          "execution_count": 52
        }
      ]
    },
    {
      "cell_type": "code",
      "metadata": {
        "id": "dOl0ePxnPHSN",
        "outputId": "1741136d-d5eb-4ae7-f12c-b01d77727e4d",
        "colab": {
          "base_uri": "https://localhost:8080/",
          "height": 391
        }
      },
      "source": [
        "plt.figure(figsize=(12,6))\n",
        "\n",
        "plt.plot(train['Close'])\n",
        "plt.plot(valid['Close'])\n",
        "plt.plot(forecast['Prediction'])"
      ],
      "execution_count": null,
      "outputs": [
        {
          "output_type": "execute_result",
          "data": {
            "text/plain": [
              "[<matplotlib.lines.Line2D at 0x7fb64c9ca340>]"
            ]
          },
          "metadata": {
            "tags": []
          },
          "execution_count": 53
        },
        {
          "output_type": "display_data",
          "data": {
            "image/png": "[encoded data removed]",
            "text/plain": [
              "<Figure size 864x432 with 1 Axes>"
            ]
          },
          "metadata": {
            "tags": [],
            "needs_background": "light"
          }
        }
      ]
    },
    {
      "cell_type": "code",
      "metadata": {
        "id": "5_46NVLVPSr3",
        "outputId": "0274456d-a458-43df-f9f7-504657ed44fd",
        "colab": {
          "base_uri": "https://localhost:8080/",
          "height": 485
        }
      },
      "source": [
        "\"\"\"\n",
        "Merging the data set on the date field\n",
        "\"\"\"\n",
        "merge_data = News.merge(Stock, how='inner', on='Date', left_index = True)\n",
        "merge_data.head(3)"
      ],
      "execution_count": null,
      "outputs": [
        {
          "output_type": "execute_result",
          "data": {
            "text/html": [
              "<div>\n",
              "<style scoped>\n",
              "    .dataframe tbody tr th:only-of-type {\n",
              "        vertical-align: middle;\n",
              "    }\n",
              "\n",
              "    .dataframe tbody tr th {\n",
              "        vertical-align: top;\n",
              "    }\n",
              "\n",
              "    .dataframe thead th {\n",
              "        text-align: right;\n",
              "    }\n",
              "</style>\n",
              "<table border=\"1\" class=\"dataframe\">\n",
              "  <thead>\n",
              "    <tr style=\"text-align: right;\">\n",
              "      <th></th>\n",
              "      <th>Date</th>\n",
              "      <th>Label</th>\n",
              "      <th>Top1</th>\n",
              "      <th>Top2</th>\n",
              "      <th>Top3</th>\n",
              "      <th>Top4</th>\n",
              "      <th>Top5</th>\n",
              "      <th>Top6</th>\n",
              "      <th>Top7</th>\n",
              "      <th>Top8</th>\n",
              "      <th>...</th>\n",
              "      <th>Top23</th>\n",
              "      <th>Top24</th>\n",
              "      <th>Top25</th>\n",
              "      <th>Combined_News</th>\n",
              "      <th>Open</th>\n",
              "      <th>High</th>\n",
              "      <th>Low</th>\n",
              "      <th>Close</th>\n",
              "      <th>Volume</th>\n",
              "      <th>Adj Close</th>\n",
              "    </tr>\n",
              "  </thead>\n",
              "  <tbody>\n",
              "    <tr>\n",
              "      <th>1988</th>\n",
              "      <td>2008-08-08</td>\n",
              "      <td>0</td>\n",
              "      <td>b\"Georgia 'downs two Russian warplanes' as cou...</td>\n",
              "      <td>b'BREAKING: Musharraf to be impeached.'</td>\n",
              "      <td>b'Russia Today: Columns of troops roll into So...</td>\n",
              "      <td>b'Russian tanks are moving towards the capital...</td>\n",
              "      <td>b\"Afghan children raped with 'impunity,' U.N. ...</td>\n",
              "      <td>b'150 Russian tanks have entered South Ossetia...</td>\n",
              "      <td>b\"Breaking: Georgia invades South Ossetia, Rus...</td>\n",
              "      <td>b\"The 'enemy combatent' trials are nothing but...</td>\n",
              "      <td>...</td>\n",
              "      <td>b'Indian shoe manufactory  - And again in a se...</td>\n",
              "      <td>b'Visitors Suffering from Mental Illnesses Ban...</td>\n",
              "      <td>b\"No Help for Mexico's Kidnapping Surge\"</td>\n",
              "      <td>Georgia downs two Russian warplanes as countri...</td>\n",
              "      <td>11432.089844</td>\n",
              "      <td>11759.959961</td>\n",
              "      <td>11388.040039</td>\n",
              "      <td>11734.320312</td>\n",
              "      <td>212830000</td>\n",
              "      <td>11734.320312</td>\n",
              "    </tr>\n",
              "    <tr>\n",
              "      <th>1987</th>\n",
              "      <td>2008-08-11</td>\n",
              "      <td>1</td>\n",
              "      <td>b'Why wont America and Nato help us? If they w...</td>\n",
              "      <td>b'Bush puts foot down on Georgian conflict'</td>\n",
              "      <td>b\"Jewish Georgian minister: Thanks to Israeli ...</td>\n",
              "      <td>b'Georgian army flees in disarray as Russians ...</td>\n",
              "      <td>b\"Olympic opening ceremony fireworks 'faked'\"</td>\n",
              "      <td>b'What were the Mossad with fraudulent New Zea...</td>\n",
              "      <td>b'Russia angered by Israeli military sale to G...</td>\n",
              "      <td>b'An American citizen living in S.Ossetia blam...</td>\n",
              "      <td>...</td>\n",
              "      <td>b'Perhaps *the* question about the Georgia - R...</td>\n",
              "      <td>b'Russia is so much better at war'</td>\n",
              "      <td>b\"So this is what it's come to: trading sex fo...</td>\n",
              "      <td>Why wont America and Nato help us? If they won...</td>\n",
              "      <td>11729.669922</td>\n",
              "      <td>11867.110352</td>\n",
              "      <td>11675.530273</td>\n",
              "      <td>11782.349609</td>\n",
              "      <td>183190000</td>\n",
              "      <td>11782.349609</td>\n",
              "    </tr>\n",
              "    <tr>\n",
              "      <th>1986</th>\n",
              "      <td>2008-08-12</td>\n",
              "      <td>0</td>\n",
              "      <td>b'Remember that adorable 9-year-old who sang a...</td>\n",
              "      <td>b\"Russia 'ends Georgia operation'\"</td>\n",
              "      <td>b'\"If we had no sexual harassment we would hav...</td>\n",
              "      <td>b\"Al-Qa'eda is losing support in Iraq because ...</td>\n",
              "      <td>b'Ceasefire in Georgia: Putin Outmaneuvers the...</td>\n",
              "      <td>b'Why Microsoft and Intel tried to kill the XO...</td>\n",
              "      <td>b'Stratfor: The Russo-Georgian War and the Bal...</td>\n",
              "      <td>b\"I'm Trying to Get a Sense of This Whole Geor...</td>\n",
              "      <td>...</td>\n",
              "      <td>b'Christopher King argues that the US and NATO...</td>\n",
              "      <td>b'America: The New Mexico?'</td>\n",
              "      <td>b\"BBC NEWS | Asia-Pacific | Extinction 'by man...</td>\n",
              "      <td>Remember that adorable 9-year-old who sang at ...</td>\n",
              "      <td>11781.700195</td>\n",
              "      <td>11782.349609</td>\n",
              "      <td>11601.519531</td>\n",
              "      <td>11642.469727</td>\n",
              "      <td>173590000</td>\n",
              "      <td>11642.469727</td>\n",
              "    </tr>\n",
              "  </tbody>\n",
              "</table>\n",
              "<p>3 rows × 34 columns</p>\n",
              "</div>"
            ],
            "text/plain": [
              "            Date  Label                                               Top1  \\\n",
              "1988  2008-08-08      0  b\"Georgia 'downs two Russian warplanes' as cou...   \n",
              "1987  2008-08-11      1  b'Why wont America and Nato help us? If they w...   \n",
              "1986  2008-08-12      0  b'Remember that adorable 9-year-old who sang a...   \n",
              "\n",
              "                                             Top2  \\\n",
              "1988      b'BREAKING: Musharraf to be impeached.'   \n",
              "1987  b'Bush puts foot down on Georgian conflict'   \n",
              "1986           b\"Russia 'ends Georgia operation'\"   \n",
              "\n",
              "                                                   Top3  \\\n",
              "1988  b'Russia Today: Columns of troops roll into So...   \n",
              "1987  b\"Jewish Georgian minister: Thanks to Israeli ...   \n",
              "1986  b'\"If we had no sexual harassment we would hav...   \n",
              "\n",
              "                                                   Top4  \\\n",
              "1988  b'Russian tanks are moving towards the capital...   \n",
              "1987  b'Georgian army flees in disarray as Russians ...   \n",
              "1986  b\"Al-Qa'eda is losing support in Iraq because ...   \n",
              "\n",
              "                                                   Top5  \\\n",
              "1988  b\"Afghan children raped with 'impunity,' U.N. ...   \n",
              "1987      b\"Olympic opening ceremony fireworks 'faked'\"   \n",
              "1986  b'Ceasefire in Georgia: Putin Outmaneuvers the...   \n",
              "\n",
              "                                                   Top6  \\\n",
              "1988  b'150 Russian tanks have entered South Ossetia...   \n",
              "1987  b'What were the Mossad with fraudulent New Zea...   \n",
              "1986  b'Why Microsoft and Intel tried to kill the XO...   \n",
              "\n",
              "                                                   Top7  \\\n",
              "1988  b\"Breaking: Georgia invades South Ossetia, Rus...   \n",
              "1987  b'Russia angered by Israeli military sale to G...   \n",
              "1986  b'Stratfor: The Russo-Georgian War and the Bal...   \n",
              "\n",
              "                                                   Top8  ...  \\\n",
              "1988  b\"The 'enemy combatent' trials are nothing but...  ...   \n",
              "1987  b'An American citizen living in S.Ossetia blam...  ...   \n",
              "1986  b\"I'm Trying to Get a Sense of This Whole Geor...  ...   \n",
              "\n",
              "                                                  Top23  \\\n",
              "1988  b'Indian shoe manufactory  - And again in a se...   \n",
              "1987  b'Perhaps *the* question about the Georgia - R...   \n",
              "1986  b'Christopher King argues that the US and NATO...   \n",
              "\n",
              "                                                  Top24  \\\n",
              "1988  b'Visitors Suffering from Mental Illnesses Ban...   \n",
              "1987                 b'Russia is so much better at war'   \n",
              "1986                        b'America: The New Mexico?'   \n",
              "\n",
              "                                                  Top25  \\\n",
              "1988           b\"No Help for Mexico's Kidnapping Surge\"   \n",
              "1987  b\"So this is what it's come to: trading sex fo...   \n",
              "1986  b\"BBC NEWS | Asia-Pacific | Extinction 'by man...   \n",
              "\n",
              "                                          Combined_News          Open  \\\n",
              "1988  Georgia downs two Russian warplanes as countri...  11432.089844   \n",
              "1987  Why wont America and Nato help us? If they won...  11729.669922   \n",
              "1986  Remember that adorable 9-year-old who sang at ...  11781.700195   \n",
              "\n",
              "              High           Low         Close     Volume     Adj Close  \n",
              "1988  11759.959961  11388.040039  11734.320312  212830000  11734.320312  \n",
              "1987  11867.110352  11675.530273  11782.349609  183190000  11782.349609  \n",
              "1986  11782.349609  11601.519531  11642.469727  173590000  11642.469727  \n",
              "\n",
              "[3 rows x 34 columns]"
            ]
          },
          "metadata": {
            "tags": []
          },
          "execution_count": 55
        }
      ]
    },
    {
      "cell_type": "code",
      "metadata": {
        "id": "srxQZ-DAPSl6",
        "outputId": "700531f1-8ed2-4e8c-c12e-d412d66dd65e",
        "colab": {
          "base_uri": "https://localhost:8080/",
          "height": 683
        }
      },
      "source": [
        "\"\"\"\n",
        "filling 0 to the null values\n",
        "\"\"\"\n",
        "merge_data.fillna(0, inplace=True)  \n",
        "\n",
        "\"\"\"\n",
        "Resting index after merge\n",
        "\"\"\"\n",
        "merge_data.reset_index(inplace = True,drop=True)\n",
        "merge_data.head()"
      ],
      "execution_count": null,
      "outputs": [
        {
          "output_type": "execute_result",
          "data": {
            "text/html": [
              "<div>\n",
              "<style scoped>\n",
              "    .dataframe tbody tr th:only-of-type {\n",
              "        vertical-align: middle;\n",
              "    }\n",
              "\n",
              "    .dataframe tbody tr th {\n",
              "        vertical-align: top;\n",
              "    }\n",
              "\n",
              "    .dataframe thead th {\n",
              "        text-align: right;\n",
              "    }\n",
              "</style>\n",
              "<table border=\"1\" class=\"dataframe\">\n",
              "  <thead>\n",
              "    <tr style=\"text-align: right;\">\n",
              "      <th></th>\n",
              "      <th>Date</th>\n",
              "      <th>Label</th>\n",
              "      <th>Top1</th>\n",
              "      <th>Top2</th>\n",
              "      <th>Top3</th>\n",
              "      <th>Top4</th>\n",
              "      <th>Top5</th>\n",
              "      <th>Top6</th>\n",
              "      <th>Top7</th>\n",
              "      <th>Top8</th>\n",
              "      <th>...</th>\n",
              "      <th>Top23</th>\n",
              "      <th>Top24</th>\n",
              "      <th>Top25</th>\n",
              "      <th>Combined_News</th>\n",
              "      <th>Open</th>\n",
              "      <th>High</th>\n",
              "      <th>Low</th>\n",
              "      <th>Close</th>\n",
              "      <th>Volume</th>\n",
              "      <th>Adj Close</th>\n",
              "    </tr>\n",
              "  </thead>\n",
              "  <tbody>\n",
              "    <tr>\n",
              "      <th>0</th>\n",
              "      <td>2008-08-08</td>\n",
              "      <td>0</td>\n",
              "      <td>b\"Georgia 'downs two Russian warplanes' as cou...</td>\n",
              "      <td>b'BREAKING: Musharraf to be impeached.'</td>\n",
              "      <td>b'Russia Today: Columns of troops roll into So...</td>\n",
              "      <td>b'Russian tanks are moving towards the capital...</td>\n",
              "      <td>b\"Afghan children raped with 'impunity,' U.N. ...</td>\n",
              "      <td>b'150 Russian tanks have entered South Ossetia...</td>\n",
              "      <td>b\"Breaking: Georgia invades South Ossetia, Rus...</td>\n",
              "      <td>b\"The 'enemy combatent' trials are nothing but...</td>\n",
              "      <td>...</td>\n",
              "      <td>b'Indian shoe manufactory  - And again in a se...</td>\n",
              "      <td>b'Visitors Suffering from Mental Illnesses Ban...</td>\n",
              "      <td>b\"No Help for Mexico's Kidnapping Surge\"</td>\n",
              "      <td>Georgia downs two Russian warplanes as countri...</td>\n",
              "      <td>11432.089844</td>\n",
              "      <td>11759.959961</td>\n",
              "      <td>11388.040039</td>\n",
              "      <td>11734.320312</td>\n",
              "      <td>212830000</td>\n",
              "      <td>11734.320312</td>\n",
              "    </tr>\n",
              "    <tr>\n",
              "      <th>1</th>\n",
              "      <td>2008-08-11</td>\n",
              "      <td>1</td>\n",
              "      <td>b'Why wont America and Nato help us? If they w...</td>\n",
              "      <td>b'Bush puts foot down on Georgian conflict'</td>\n",
              "      <td>b\"Jewish Georgian minister: Thanks to Israeli ...</td>\n",
              "      <td>b'Georgian army flees in disarray as Russians ...</td>\n",
              "      <td>b\"Olympic opening ceremony fireworks 'faked'\"</td>\n",
              "      <td>b'What were the Mossad with fraudulent New Zea...</td>\n",
              "      <td>b'Russia angered by Israeli military sale to G...</td>\n",
              "      <td>b'An American citizen living in S.Ossetia blam...</td>\n",
              "      <td>...</td>\n",
              "      <td>b'Perhaps *the* question about the Georgia - R...</td>\n",
              "      <td>b'Russia is so much better at war'</td>\n",
              "      <td>b\"So this is what it's come to: trading sex fo...</td>\n",
              "      <td>Why wont America and Nato help us? If they won...</td>\n",
              "      <td>11729.669922</td>\n",
              "      <td>11867.110352</td>\n",
              "      <td>11675.530273</td>\n",
              "      <td>11782.349609</td>\n",
              "      <td>183190000</td>\n",
              "      <td>11782.349609</td>\n",
              "    </tr>\n",
              "    <tr>\n",
              "      <th>2</th>\n",
              "      <td>2008-08-12</td>\n",
              "      <td>0</td>\n",
              "      <td>b'Remember that adorable 9-year-old who sang a...</td>\n",
              "      <td>b\"Russia 'ends Georgia operation'\"</td>\n",
              "      <td>b'\"If we had no sexual harassment we would hav...</td>\n",
              "      <td>b\"Al-Qa'eda is losing support in Iraq because ...</td>\n",
              "      <td>b'Ceasefire in Georgia: Putin Outmaneuvers the...</td>\n",
              "      <td>b'Why Microsoft and Intel tried to kill the XO...</td>\n",
              "      <td>b'Stratfor: The Russo-Georgian War and the Bal...</td>\n",
              "      <td>b\"I'm Trying to Get a Sense of This Whole Geor...</td>\n",
              "      <td>...</td>\n",
              "      <td>b'Christopher King argues that the US and NATO...</td>\n",
              "      <td>b'America: The New Mexico?'</td>\n",
              "      <td>b\"BBC NEWS | Asia-Pacific | Extinction 'by man...</td>\n",
              "      <td>Remember that adorable 9-year-old who sang at ...</td>\n",
              "      <td>11781.700195</td>\n",
              "      <td>11782.349609</td>\n",
              "      <td>11601.519531</td>\n",
              "      <td>11642.469727</td>\n",
              "      <td>173590000</td>\n",
              "      <td>11642.469727</td>\n",
              "    </tr>\n",
              "    <tr>\n",
              "      <th>3</th>\n",
              "      <td>2008-08-13</td>\n",
              "      <td>0</td>\n",
              "      <td>b' U.S. refuses Israel weapons to attack Iran:...</td>\n",
              "      <td>b\"When the president ordered to attack Tskhinv...</td>\n",
              "      <td>b' Israel clears troops who killed Reuters cam...</td>\n",
              "      <td>b'Britain\\'s policy of being tough on drugs is...</td>\n",
              "      <td>b'Body of 14 year old found in trunk; Latest (...</td>\n",
              "      <td>b'China has moved 10 *million* quake survivors...</td>\n",
              "      <td>b\"Bush announces Operation Get All Up In Russi...</td>\n",
              "      <td>b'Russian forces sink Georgian ships '</td>\n",
              "      <td>...</td>\n",
              "      <td>b' Quarter of Russians blame U.S. for conflict...</td>\n",
              "      <td>b'Georgian president  says US military will ta...</td>\n",
              "      <td>b'2006: Nobel laureate Aleksander Solzhenitsyn...</td>\n",
              "      <td>U.S. refuses Israel weapons to attack Iran: r...</td>\n",
              "      <td>11632.809570</td>\n",
              "      <td>11633.780273</td>\n",
              "      <td>11453.339844</td>\n",
              "      <td>11532.959961</td>\n",
              "      <td>182550000</td>\n",
              "      <td>11532.959961</td>\n",
              "    </tr>\n",
              "    <tr>\n",
              "      <th>4</th>\n",
              "      <td>2008-08-14</td>\n",
              "      <td>1</td>\n",
              "      <td>b'All the experts admit that we should legalis...</td>\n",
              "      <td>b'War in South Osetia - 89 pictures made by a ...</td>\n",
              "      <td>b'Swedish wrestler Ara Abrahamian throws away ...</td>\n",
              "      <td>b'Russia exaggerated the death toll in South O...</td>\n",
              "      <td>b'Missile That Killed 9 Inside Pakistan May Ha...</td>\n",
              "      <td>b\"Rushdie Condemns Random House's Refusal to P...</td>\n",
              "      <td>b'Poland and US agree to missle defense deal. ...</td>\n",
              "      <td>b'Will the Russians conquer Tblisi? Bet on it,...</td>\n",
              "      <td>...</td>\n",
              "      <td>b'Russia: World  \"can forget about\" Georgia\\'s...</td>\n",
              "      <td>b'Darfur rebels accuse Sudan of mounting major...</td>\n",
              "      <td>b'Philippines : Peace Advocate say Muslims nee...</td>\n",
              "      <td>All the experts admit that we should legalise ...</td>\n",
              "      <td>11532.070312</td>\n",
              "      <td>11718.280273</td>\n",
              "      <td>11450.889648</td>\n",
              "      <td>11615.929688</td>\n",
              "      <td>159790000</td>\n",
              "      <td>11615.929688</td>\n",
              "    </tr>\n",
              "  </tbody>\n",
              "</table>\n",
              "<p>5 rows × 34 columns</p>\n",
              "</div>"
            ],
            "text/plain": [
              "         Date  Label                                               Top1  \\\n",
              "0  2008-08-08      0  b\"Georgia 'downs two Russian warplanes' as cou...   \n",
              "1  2008-08-11      1  b'Why wont America and Nato help us? If they w...   \n",
              "2  2008-08-12      0  b'Remember that adorable 9-year-old who sang a...   \n",
              "3  2008-08-13      0  b' U.S. refuses Israel weapons to attack Iran:...   \n",
              "4  2008-08-14      1  b'All the experts admit that we should legalis...   \n",
              "\n",
              "                                                Top2  \\\n",
              "0            b'BREAKING: Musharraf to be impeached.'   \n",
              "1        b'Bush puts foot down on Georgian conflict'   \n",
              "2                 b\"Russia 'ends Georgia operation'\"   \n",
              "3  b\"When the president ordered to attack Tskhinv...   \n",
              "4  b'War in South Osetia - 89 pictures made by a ...   \n",
              "\n",
              "                                                Top3  \\\n",
              "0  b'Russia Today: Columns of troops roll into So...   \n",
              "1  b\"Jewish Georgian minister: Thanks to Israeli ...   \n",
              "2  b'\"If we had no sexual harassment we would hav...   \n",
              "3  b' Israel clears troops who killed Reuters cam...   \n",
              "4  b'Swedish wrestler Ara Abrahamian throws away ...   \n",
              "\n",
              "                                                Top4  \\\n",
              "0  b'Russian tanks are moving towards the capital...   \n",
              "1  b'Georgian army flees in disarray as Russians ...   \n",
              "2  b\"Al-Qa'eda is losing support in Iraq because ...   \n",
              "3  b'Britain\\'s policy of being tough on drugs is...   \n",
              "4  b'Russia exaggerated the death toll in South O...   \n",
              "\n",
              "                                                Top5  \\\n",
              "0  b\"Afghan children raped with 'impunity,' U.N. ...   \n",
              "1      b\"Olympic opening ceremony fireworks 'faked'\"   \n",
              "2  b'Ceasefire in Georgia: Putin Outmaneuvers the...   \n",
              "3  b'Body of 14 year old found in trunk; Latest (...   \n",
              "4  b'Missile That Killed 9 Inside Pakistan May Ha...   \n",
              "\n",
              "                                                Top6  \\\n",
              "0  b'150 Russian tanks have entered South Ossetia...   \n",
              "1  b'What were the Mossad with fraudulent New Zea...   \n",
              "2  b'Why Microsoft and Intel tried to kill the XO...   \n",
              "3  b'China has moved 10 *million* quake survivors...   \n",
              "4  b\"Rushdie Condemns Random House's Refusal to P...   \n",
              "\n",
              "                                                Top7  \\\n",
              "0  b\"Breaking: Georgia invades South Ossetia, Rus...   \n",
              "1  b'Russia angered by Israeli military sale to G...   \n",
              "2  b'Stratfor: The Russo-Georgian War and the Bal...   \n",
              "3  b\"Bush announces Operation Get All Up In Russi...   \n",
              "4  b'Poland and US agree to missle defense deal. ...   \n",
              "\n",
              "                                                Top8  ...  \\\n",
              "0  b\"The 'enemy combatent' trials are nothing but...  ...   \n",
              "1  b'An American citizen living in S.Ossetia blam...  ...   \n",
              "2  b\"I'm Trying to Get a Sense of This Whole Geor...  ...   \n",
              "3             b'Russian forces sink Georgian ships '  ...   \n",
              "4  b'Will the Russians conquer Tblisi? Bet on it,...  ...   \n",
              "\n",
              "                                               Top23  \\\n",
              "0  b'Indian shoe manufactory  - And again in a se...   \n",
              "1  b'Perhaps *the* question about the Georgia - R...   \n",
              "2  b'Christopher King argues that the US and NATO...   \n",
              "3  b' Quarter of Russians blame U.S. for conflict...   \n",
              "4  b'Russia: World  \"can forget about\" Georgia\\'s...   \n",
              "\n",
              "                                               Top24  \\\n",
              "0  b'Visitors Suffering from Mental Illnesses Ban...   \n",
              "1                 b'Russia is so much better at war'   \n",
              "2                        b'America: The New Mexico?'   \n",
              "3  b'Georgian president  says US military will ta...   \n",
              "4  b'Darfur rebels accuse Sudan of mounting major...   \n",
              "\n",
              "                                               Top25  \\\n",
              "0           b\"No Help for Mexico's Kidnapping Surge\"   \n",
              "1  b\"So this is what it's come to: trading sex fo...   \n",
              "2  b\"BBC NEWS | Asia-Pacific | Extinction 'by man...   \n",
              "3  b'2006: Nobel laureate Aleksander Solzhenitsyn...   \n",
              "4  b'Philippines : Peace Advocate say Muslims nee...   \n",
              "\n",
              "                                       Combined_News          Open  \\\n",
              "0  Georgia downs two Russian warplanes as countri...  11432.089844   \n",
              "1  Why wont America and Nato help us? If they won...  11729.669922   \n",
              "2  Remember that adorable 9-year-old who sang at ...  11781.700195   \n",
              "3   U.S. refuses Israel weapons to attack Iran: r...  11632.809570   \n",
              "4  All the experts admit that we should legalise ...  11532.070312   \n",
              "\n",
              "           High           Low         Close     Volume     Adj Close  \n",
              "0  11759.959961  11388.040039  11734.320312  212830000  11734.320312  \n",
              "1  11867.110352  11675.530273  11782.349609  183190000  11782.349609  \n",
              "2  11782.349609  11601.519531  11642.469727  173590000  11642.469727  \n",
              "3  11633.780273  11453.339844  11532.959961  182550000  11532.959961  \n",
              "4  11718.280273  11450.889648  11615.929688  159790000  11615.929688  \n",
              "\n",
              "[5 rows x 34 columns]"
            ]
          },
          "metadata": {
            "tags": []
          },
          "execution_count": 56
        }
      ]
    },
    {
      "cell_type": "code",
      "metadata": {
        "id": "ie_EelC6RSTF"
      },
      "source": [
        "\"\"\"\n",
        "returns subjectivity of news\n",
        "\"\"\"\n",
        "def getSubjectivity(text):\n",
        "  return TextBlob(text).sentiment.subjectivity\n",
        "\n",
        "\"\"\"\n",
        "returns polarity of news\n",
        "\"\"\"\n",
        "def getPolarity(text):\n",
        "  return  TextBlob(text).sentiment.polarity"
      ],
      "execution_count": null,
      "outputs": []
    },
    {
      "cell_type": "code",
      "metadata": {
        "id": "1o_Hdd5eRSQA"
      },
      "source": [
        "merge_data['Subjectivity'] =merge_data['Combined_News'].apply(getSubjectivity)\n",
        "merge_data['Polarity'] =merge_data['Combined_News'].apply(getPolarity)"
      ],
      "execution_count": null,
      "outputs": []
    },
    {
      "cell_type": "code",
      "metadata": {
        "id": "BvhKMfH7RSNx"
      },
      "source": [
        "\"\"\"\n",
        "returns sentiment of news\n",
        "\"\"\"\n",
        "def getSIA(text):\n",
        "  sia = SentimentIntensityAnalyzer()\n",
        "  sentiment = sia.polarity_scores(text)\n",
        "  return sentiment"
      ],
      "execution_count": null,
      "outputs": []
    },
    {
      "cell_type": "code",
      "metadata": {
        "id": "T7XkHjsMRhun"
      },
      "source": [
        "\"\"\"\n",
        "Getting the sentiment scores for each day\n",
        "\"\"\"\n",
        "compound = []\n",
        "neg = []\n",
        "neu = []\n",
        "pos = []\n",
        "SIA = 0\n",
        "for i in range(0, len(merge_data['Combined_News'])):\n",
        "  SIA = getSIA(merge_data['Combined_News'][i])\n",
        "  compound.append(SIA['compound'])\n",
        "  neg.append(SIA['neg'])\n",
        "  neu.append(SIA['neu'])\n",
        "  pos.append(SIA['pos'])"
      ],
      "execution_count": null,
      "outputs": []
    },
    {
      "cell_type": "code",
      "metadata": {
        "id": "bnJLEE8KRnpV"
      },
      "source": [
        "merge_data['Compound'] =compound\n",
        "merge_data['Negative'] =neg\n",
        "merge_data['Neutral'] =neu\n",
        "merge_data['Positive'] = pos"
      ],
      "execution_count": null,
      "outputs": []
    },
    {
      "cell_type": "code",
      "metadata": {
        "id": "KdUFN8c1Ryv6",
        "outputId": "bbddba77-bbc6-4240-bb4b-3d140faa140d",
        "colab": {
          "base_uri": "https://localhost:8080/",
          "height": 34
        }
      },
      "source": [
        "merge_data.shape"
      ],
      "execution_count": null,
      "outputs": [
        {
          "output_type": "execute_result",
          "data": {
            "text/plain": [
              "(1989, 40)"
            ]
          },
          "metadata": {
            "tags": []
          },
          "execution_count": 63
        }
      ]
    },
    {
      "cell_type": "code",
      "metadata": {
        "id": "ZUUoVzuUR2c8",
        "outputId": "4526f39b-48a1-4bbc-d420-3c34741a19e6",
        "colab": {
          "base_uri": "https://localhost:8080/",
          "height": 683
        }
      },
      "source": [
        "merge_data.head()"
      ],
      "execution_count": null,
      "outputs": [
        {
          "output_type": "execute_result",
          "data": {
            "text/html": [
              "<div>\n",
              "<style scoped>\n",
              "    .dataframe tbody tr th:only-of-type {\n",
              "        vertical-align: middle;\n",
              "    }\n",
              "\n",
              "    .dataframe tbody tr th {\n",
              "        vertical-align: top;\n",
              "    }\n",
              "\n",
              "    .dataframe thead th {\n",
              "        text-align: right;\n",
              "    }\n",
              "</style>\n",
              "<table border=\"1\" class=\"dataframe\">\n",
              "  <thead>\n",
              "    <tr style=\"text-align: right;\">\n",
              "      <th></th>\n",
              "      <th>Date</th>\n",
              "      <th>Label</th>\n",
              "      <th>Top1</th>\n",
              "      <th>Top2</th>\n",
              "      <th>Top3</th>\n",
              "      <th>Top4</th>\n",
              "      <th>Top5</th>\n",
              "      <th>Top6</th>\n",
              "      <th>Top7</th>\n",
              "      <th>Top8</th>\n",
              "      <th>...</th>\n",
              "      <th>Low</th>\n",
              "      <th>Close</th>\n",
              "      <th>Volume</th>\n",
              "      <th>Adj Close</th>\n",
              "      <th>Subjectivity</th>\n",
              "      <th>Polarity</th>\n",
              "      <th>Compound</th>\n",
              "      <th>Negative</th>\n",
              "      <th>Neutral</th>\n",
              "      <th>Positive</th>\n",
              "    </tr>\n",
              "  </thead>\n",
              "  <tbody>\n",
              "    <tr>\n",
              "      <th>0</th>\n",
              "      <td>2008-08-08</td>\n",
              "      <td>0</td>\n",
              "      <td>b\"Georgia 'downs two Russian warplanes' as cou...</td>\n",
              "      <td>b'BREAKING: Musharraf to be impeached.'</td>\n",
              "      <td>b'Russia Today: Columns of troops roll into So...</td>\n",
              "      <td>b'Russian tanks are moving towards the capital...</td>\n",
              "      <td>b\"Afghan children raped with 'impunity,' U.N. ...</td>\n",
              "      <td>b'150 Russian tanks have entered South Ossetia...</td>\n",
              "      <td>b\"Breaking: Georgia invades South Ossetia, Rus...</td>\n",
              "      <td>b\"The 'enemy combatent' trials are nothing but...</td>\n",
              "      <td>...</td>\n",
              "      <td>11388.040039</td>\n",
              "      <td>11734.320312</td>\n",
              "      <td>212830000</td>\n",
              "      <td>11734.320312</td>\n",
              "      <td>0.267549</td>\n",
              "      <td>-0.048568</td>\n",
              "      <td>-0.9982</td>\n",
              "      <td>0.235</td>\n",
              "      <td>0.724</td>\n",
              "      <td>0.041</td>\n",
              "    </tr>\n",
              "    <tr>\n",
              "      <th>1</th>\n",
              "      <td>2008-08-11</td>\n",
              "      <td>1</td>\n",
              "      <td>b'Why wont America and Nato help us? If they w...</td>\n",
              "      <td>b'Bush puts foot down on Georgian conflict'</td>\n",
              "      <td>b\"Jewish Georgian minister: Thanks to Israeli ...</td>\n",
              "      <td>b'Georgian army flees in disarray as Russians ...</td>\n",
              "      <td>b\"Olympic opening ceremony fireworks 'faked'\"</td>\n",
              "      <td>b'What were the Mossad with fraudulent New Zea...</td>\n",
              "      <td>b'Russia angered by Israeli military sale to G...</td>\n",
              "      <td>b'An American citizen living in S.Ossetia blam...</td>\n",
              "      <td>...</td>\n",
              "      <td>11675.530273</td>\n",
              "      <td>11782.349609</td>\n",
              "      <td>183190000</td>\n",
              "      <td>11782.349609</td>\n",
              "      <td>0.374806</td>\n",
              "      <td>0.121956</td>\n",
              "      <td>-0.9858</td>\n",
              "      <td>0.191</td>\n",
              "      <td>0.721</td>\n",
              "      <td>0.089</td>\n",
              "    </tr>\n",
              "    <tr>\n",
              "      <th>2</th>\n",
              "      <td>2008-08-12</td>\n",
              "      <td>0</td>\n",
              "      <td>b'Remember that adorable 9-year-old who sang a...</td>\n",
              "      <td>b\"Russia 'ends Georgia operation'\"</td>\n",
              "      <td>b'\"If we had no sexual harassment we would hav...</td>\n",
              "      <td>b\"Al-Qa'eda is losing support in Iraq because ...</td>\n",
              "      <td>b'Ceasefire in Georgia: Putin Outmaneuvers the...</td>\n",
              "      <td>b'Why Microsoft and Intel tried to kill the XO...</td>\n",
              "      <td>b'Stratfor: The Russo-Georgian War and the Bal...</td>\n",
              "      <td>b\"I'm Trying to Get a Sense of This Whole Geor...</td>\n",
              "      <td>...</td>\n",
              "      <td>11601.519531</td>\n",
              "      <td>11642.469727</td>\n",
              "      <td>173590000</td>\n",
              "      <td>11642.469727</td>\n",
              "      <td>0.536234</td>\n",
              "      <td>-0.044302</td>\n",
              "      <td>-0.9715</td>\n",
              "      <td>0.128</td>\n",
              "      <td>0.816</td>\n",
              "      <td>0.056</td>\n",
              "    </tr>\n",
              "    <tr>\n",
              "      <th>3</th>\n",
              "      <td>2008-08-13</td>\n",
              "      <td>0</td>\n",
              "      <td>b' U.S. refuses Israel weapons to attack Iran:...</td>\n",
              "      <td>b\"When the president ordered to attack Tskhinv...</td>\n",
              "      <td>b' Israel clears troops who killed Reuters cam...</td>\n",
              "      <td>b'Britain\\'s policy of being tough on drugs is...</td>\n",
              "      <td>b'Body of 14 year old found in trunk; Latest (...</td>\n",
              "      <td>b'China has moved 10 *million* quake survivors...</td>\n",
              "      <td>b\"Bush announces Operation Get All Up In Russi...</td>\n",
              "      <td>b'Russian forces sink Georgian ships '</td>\n",
              "      <td>...</td>\n",
              "      <td>11453.339844</td>\n",
              "      <td>11532.959961</td>\n",
              "      <td>182550000</td>\n",
              "      <td>11532.959961</td>\n",
              "      <td>0.364021</td>\n",
              "      <td>0.011398</td>\n",
              "      <td>-0.9809</td>\n",
              "      <td>0.146</td>\n",
              "      <td>0.788</td>\n",
              "      <td>0.066</td>\n",
              "    </tr>\n",
              "    <tr>\n",
              "      <th>4</th>\n",
              "      <td>2008-08-14</td>\n",
              "      <td>1</td>\n",
              "      <td>b'All the experts admit that we should legalis...</td>\n",
              "      <td>b'War in South Osetia - 89 pictures made by a ...</td>\n",
              "      <td>b'Swedish wrestler Ara Abrahamian throws away ...</td>\n",
              "      <td>b'Russia exaggerated the death toll in South O...</td>\n",
              "      <td>b'Missile That Killed 9 Inside Pakistan May Ha...</td>\n",
              "      <td>b\"Rushdie Condemns Random House's Refusal to P...</td>\n",
              "      <td>b'Poland and US agree to missle defense deal. ...</td>\n",
              "      <td>b'Will the Russians conquer Tblisi? Bet on it,...</td>\n",
              "      <td>...</td>\n",
              "      <td>11450.889648</td>\n",
              "      <td>11615.929688</td>\n",
              "      <td>159790000</td>\n",
              "      <td>11615.929688</td>\n",
              "      <td>0.375099</td>\n",
              "      <td>0.040677</td>\n",
              "      <td>-0.9882</td>\n",
              "      <td>0.189</td>\n",
              "      <td>0.717</td>\n",
              "      <td>0.094</td>\n",
              "    </tr>\n",
              "  </tbody>\n",
              "</table>\n",
              "<p>5 rows × 40 columns</p>\n",
              "</div>"
            ],
            "text/plain": [
              "         Date  Label                                               Top1  \\\n",
              "0  2008-08-08      0  b\"Georgia 'downs two Russian warplanes' as cou...   \n",
              "1  2008-08-11      1  b'Why wont America and Nato help us? If they w...   \n",
              "2  2008-08-12      0  b'Remember that adorable 9-year-old who sang a...   \n",
              "3  2008-08-13      0  b' U.S. refuses Israel weapons to attack Iran:...   \n",
              "4  2008-08-14      1  b'All the experts admit that we should legalis...   \n",
              "\n",
              "                                                Top2  \\\n",
              "0            b'BREAKING: Musharraf to be impeached.'   \n",
              "1        b'Bush puts foot down on Georgian conflict'   \n",
              "2                 b\"Russia 'ends Georgia operation'\"   \n",
              "3  b\"When the president ordered to attack Tskhinv...   \n",
              "4  b'War in South Osetia - 89 pictures made by a ...   \n",
              "\n",
              "                                                Top3  \\\n",
              "0  b'Russia Today: Columns of troops roll into So...   \n",
              "1  b\"Jewish Georgian minister: Thanks to Israeli ...   \n",
              "2  b'\"If we had no sexual harassment we would hav...   \n",
              "3  b' Israel clears troops who killed Reuters cam...   \n",
              "4  b'Swedish wrestler Ara Abrahamian throws away ...   \n",
              "\n",
              "                                                Top4  \\\n",
              "0  b'Russian tanks are moving towards the capital...   \n",
              "1  b'Georgian army flees in disarray as Russians ...   \n",
              "2  b\"Al-Qa'eda is losing support in Iraq because ...   \n",
              "3  b'Britain\\'s policy of being tough on drugs is...   \n",
              "4  b'Russia exaggerated the death toll in South O...   \n",
              "\n",
              "                                                Top5  \\\n",
              "0  b\"Afghan children raped with 'impunity,' U.N. ...   \n",
              "1      b\"Olympic opening ceremony fireworks 'faked'\"   \n",
              "2  b'Ceasefire in Georgia: Putin Outmaneuvers the...   \n",
              "3  b'Body of 14 year old found in trunk; Latest (...   \n",
              "4  b'Missile That Killed 9 Inside Pakistan May Ha...   \n",
              "\n",
              "                                                Top6  \\\n",
              "0  b'150 Russian tanks have entered South Ossetia...   \n",
              "1  b'What were the Mossad with fraudulent New Zea...   \n",
              "2  b'Why Microsoft and Intel tried to kill the XO...   \n",
              "3  b'China has moved 10 *million* quake survivors...   \n",
              "4  b\"Rushdie Condemns Random House's Refusal to P...   \n",
              "\n",
              "                                                Top7  \\\n",
              "0  b\"Breaking: Georgia invades South Ossetia, Rus...   \n",
              "1  b'Russia angered by Israeli military sale to G...   \n",
              "2  b'Stratfor: The Russo-Georgian War and the Bal...   \n",
              "3  b\"Bush announces Operation Get All Up In Russi...   \n",
              "4  b'Poland and US agree to missle defense deal. ...   \n",
              "\n",
              "                                                Top8  ...           Low  \\\n",
              "0  b\"The 'enemy combatent' trials are nothing but...  ...  11388.040039   \n",
              "1  b'An American citizen living in S.Ossetia blam...  ...  11675.530273   \n",
              "2  b\"I'm Trying to Get a Sense of This Whole Geor...  ...  11601.519531   \n",
              "3             b'Russian forces sink Georgian ships '  ...  11453.339844   \n",
              "4  b'Will the Russians conquer Tblisi? Bet on it,...  ...  11450.889648   \n",
              "\n",
              "          Close     Volume     Adj Close Subjectivity  Polarity Compound  \\\n",
              "0  11734.320312  212830000  11734.320312     0.267549 -0.048568  -0.9982   \n",
              "1  11782.349609  183190000  11782.349609     0.374806  0.121956  -0.9858   \n",
              "2  11642.469727  173590000  11642.469727     0.536234 -0.044302  -0.9715   \n",
              "3  11532.959961  182550000  11532.959961     0.364021  0.011398  -0.9809   \n",
              "4  11615.929688  159790000  11615.929688     0.375099  0.040677  -0.9882   \n",
              "\n",
              "  Negative Neutral Positive  \n",
              "0    0.235   0.724    0.041  \n",
              "1    0.191   0.721    0.089  \n",
              "2    0.128   0.816    0.056  \n",
              "3    0.146   0.788    0.066  \n",
              "4    0.189   0.717    0.094  \n",
              "\n",
              "[5 rows x 40 columns]"
            ]
          },
          "metadata": {
            "tags": []
          },
          "execution_count": 64
        }
      ]
    },
    {
      "cell_type": "markdown",
      "metadata": {
        "id": "JMLz2lbmR-Tk"
      },
      "source": [
        "## Visualizing polarity"
      ]
    },
    {
      "cell_type": "code",
      "metadata": {
        "id": "pPU4horDSCqV",
        "outputId": "bb864e22-b343-49c3-f5a0-cb398a082d4f",
        "colab": {
          "base_uri": "https://localhost:8080/",
          "height": 374
        }
      },
      "source": [
        "plt.figure(figsize=(12,6))\n",
        "merge_data['Polarity'].hist()\n",
        "plt.show()"
      ],
      "execution_count": null,
      "outputs": [
        {
          "output_type": "display_data",
          "data": {
            "image/png": "[encoded data removed]",
            "text/plain": [
              "<Figure size 864x432 with 1 Axes>"
            ]
          },
          "metadata": {
            "tags": [],
            "needs_background": "light"
          }
        }
      ]
    },
    {
      "cell_type": "markdown",
      "metadata": {
        "id": "DiA-car9SNj4"
      },
      "source": [
        "## Visualizing Subjectivity"
      ]
    },
    {
      "cell_type": "code",
      "metadata": {
        "id": "B9svrFF4SDOj",
        "outputId": "4bba489a-f35b-4f3b-b9e4-2313a366ae21",
        "colab": {
          "base_uri": "https://localhost:8080/",
          "height": 374
        }
      },
      "source": [
        "plt.figure(figsize=(12,6))\n",
        "merge_data['Subjectivity'].hist()\n",
        "plt.show()"
      ],
      "execution_count": null,
      "outputs": [
        {
          "output_type": "display_data",
          "data": {
            "image/png": "[encoded data removed]",
            "text/plain": [
              "<Figure size 864x432 with 1 Axes>"
            ]
          },
          "metadata": {
            "tags": [],
            "needs_background": "light"
          }
        }
      ]
    },
    {
      "cell_type": "code",
      "metadata": {
        "id": "9T6v8ru_SRk5",
        "outputId": "6eddef71-199a-4628-ed40-7af207748bad",
        "colab": {
          "base_uri": "https://localhost:8080/",
          "height": 224
        }
      },
      "source": [
        "keep_columns = [ 'Open',  'High', 'Low','Volume', 'Subjectivity', 'Polarity', 'Compound', 'Negative', 'Neutral' ,'Positive','Label']\n",
        "df = merge_data[keep_columns]\n",
        "df.head()"
      ],
      "execution_count": null,
      "outputs": [
        {
          "output_type": "execute_result",
          "data": {
            "text/html": [
              "<div>\n",
              "<style scoped>\n",
              "    .dataframe tbody tr th:only-of-type {\n",
              "        vertical-align: middle;\n",
              "    }\n",
              "\n",
              "    .dataframe tbody tr th {\n",
              "        vertical-align: top;\n",
              "    }\n",
              "\n",
              "    .dataframe thead th {\n",
              "        text-align: right;\n",
              "    }\n",
              "</style>\n",
              "<table border=\"1\" class=\"dataframe\">\n",
              "  <thead>\n",
              "    <tr style=\"text-align: right;\">\n",
              "      <th></th>\n",
              "      <th>Open</th>\n",
              "      <th>High</th>\n",
              "      <th>Low</th>\n",
              "      <th>Volume</th>\n",
              "      <th>Subjectivity</th>\n",
              "      <th>Polarity</th>\n",
              "      <th>Compound</th>\n",
              "      <th>Negative</th>\n",
              "      <th>Neutral</th>\n",
              "      <th>Positive</th>\n",
              "      <th>Label</th>\n",
              "    </tr>\n",
              "  </thead>\n",
              "  <tbody>\n",
              "    <tr>\n",
              "      <th>0</th>\n",
              "      <td>11432.089844</td>\n",
              "      <td>11759.959961</td>\n",
              "      <td>11388.040039</td>\n",
              "      <td>212830000</td>\n",
              "      <td>0.267549</td>\n",
              "      <td>-0.048568</td>\n",
              "      <td>-0.9982</td>\n",
              "      <td>0.235</td>\n",
              "      <td>0.724</td>\n",
              "      <td>0.041</td>\n",
              "      <td>0</td>\n",
              "    </tr>\n",
              "    <tr>\n",
              "      <th>1</th>\n",
              "      <td>11729.669922</td>\n",
              "      <td>11867.110352</td>\n",
              "      <td>11675.530273</td>\n",
              "      <td>183190000</td>\n",
              "      <td>0.374806</td>\n",
              "      <td>0.121956</td>\n",
              "      <td>-0.9858</td>\n",
              "      <td>0.191</td>\n",
              "      <td>0.721</td>\n",
              "      <td>0.089</td>\n",
              "      <td>1</td>\n",
              "    </tr>\n",
              "    <tr>\n",
              "      <th>2</th>\n",
              "      <td>11781.700195</td>\n",
              "      <td>11782.349609</td>\n",
              "      <td>11601.519531</td>\n",
              "      <td>173590000</td>\n",
              "      <td>0.536234</td>\n",
              "      <td>-0.044302</td>\n",
              "      <td>-0.9715</td>\n",
              "      <td>0.128</td>\n",
              "      <td>0.816</td>\n",
              "      <td>0.056</td>\n",
              "      <td>0</td>\n",
              "    </tr>\n",
              "    <tr>\n",
              "      <th>3</th>\n",
              "      <td>11632.809570</td>\n",
              "      <td>11633.780273</td>\n",
              "      <td>11453.339844</td>\n",
              "      <td>182550000</td>\n",
              "      <td>0.364021</td>\n",
              "      <td>0.011398</td>\n",
              "      <td>-0.9809</td>\n",
              "      <td>0.146</td>\n",
              "      <td>0.788</td>\n",
              "      <td>0.066</td>\n",
              "      <td>0</td>\n",
              "    </tr>\n",
              "    <tr>\n",
              "      <th>4</th>\n",
              "      <td>11532.070312</td>\n",
              "      <td>11718.280273</td>\n",
              "      <td>11450.889648</td>\n",
              "      <td>159790000</td>\n",
              "      <td>0.375099</td>\n",
              "      <td>0.040677</td>\n",
              "      <td>-0.9882</td>\n",
              "      <td>0.189</td>\n",
              "      <td>0.717</td>\n",
              "      <td>0.094</td>\n",
              "      <td>1</td>\n",
              "    </tr>\n",
              "  </tbody>\n",
              "</table>\n",
              "</div>"
            ],
            "text/plain": [
              "           Open          High           Low     Volume  Subjectivity  \\\n",
              "0  11432.089844  11759.959961  11388.040039  212830000      0.267549   \n",
              "1  11729.669922  11867.110352  11675.530273  183190000      0.374806   \n",
              "2  11781.700195  11782.349609  11601.519531  173590000      0.536234   \n",
              "3  11632.809570  11633.780273  11453.339844  182550000      0.364021   \n",
              "4  11532.070312  11718.280273  11450.889648  159790000      0.375099   \n",
              "\n",
              "   Polarity  Compound  Negative  Neutral  Positive  Label  \n",
              "0 -0.048568   -0.9982     0.235    0.724     0.041      0  \n",
              "1  0.121956   -0.9858     0.191    0.721     0.089      1  \n",
              "2 -0.044302   -0.9715     0.128    0.816     0.056      0  \n",
              "3  0.011398   -0.9809     0.146    0.788     0.066      0  \n",
              "4  0.040677   -0.9882     0.189    0.717     0.094      1  "
            ]
          },
          "metadata": {
            "tags": []
          },
          "execution_count": 67
        }
      ]
    },
    {
      "cell_type": "markdown",
      "metadata": {
        "id": "QrQpYaOAS-uG"
      },
      "source": [
        "##**Splitting data into train and test**\n"
      ]
    },
    {
      "cell_type": "code",
      "metadata": {
        "id": "SCAxoi-bS_cq"
      },
      "source": [
        "\"\"\"\n",
        "Create the feature data set\n",
        "\"\"\"\n",
        "X =df.drop('Label', axis=1)\n",
        "y =df['Label']"
      ],
      "execution_count": null,
      "outputs": []
    },
    {
      "cell_type": "code",
      "metadata": {
        "id": "2FjzSz_5S_ZR",
        "outputId": "699d528e-d6b8-4c7f-bdaf-891e8a0df540",
        "colab": {
          "base_uri": "https://localhost:8080/",
          "height": 68
        }
      },
      "source": [
        "y.value_counts()"
      ],
      "execution_count": null,
      "outputs": [
        {
          "output_type": "execute_result",
          "data": {
            "text/plain": [
              "1    1065\n",
              "0     924\n",
              "Name: Label, dtype: int64"
            ]
          },
          "metadata": {
            "tags": []
          },
          "execution_count": 69
        }
      ]
    },
    {
      "cell_type": "code",
      "metadata": {
        "id": "UJ--bJhoSVP1",
        "outputId": "075e63bb-1721-4ef3-c912-d5a4dc516765",
        "colab": {
          "base_uri": "https://localhost:8080/",
          "height": 34
        }
      },
      "source": [
        "X.shape"
      ],
      "execution_count": null,
      "outputs": [
        {
          "output_type": "execute_result",
          "data": {
            "text/plain": [
              "(1989, 10)"
            ]
          },
          "metadata": {
            "tags": []
          },
          "execution_count": 70
        }
      ]
    },
    {
      "cell_type": "code",
      "metadata": {
        "id": "JAz5NKipTN05",
        "outputId": "19722016-4521-4d8b-fe19-0aff477c4a20",
        "colab": {
          "base_uri": "https://localhost:8080/",
          "height": 34
        }
      },
      "source": [
        "y.shape"
      ],
      "execution_count": null,
      "outputs": [
        {
          "output_type": "execute_result",
          "data": {
            "text/plain": [
              "(1989,)"
            ]
          },
          "metadata": {
            "tags": []
          },
          "execution_count": 71
        }
      ]
    },
    {
      "cell_type": "code",
      "metadata": {
        "id": "WwWWIXmvTPof",
        "outputId": "9be4e216-d706-4cba-dcdc-3027a2eb912e",
        "colab": {
          "base_uri": "https://localhost:8080/",
          "height": 204
        }
      },
      "source": [
        "X.head()"
      ],
      "execution_count": null,
      "outputs": [
        {
          "output_type": "execute_result",
          "data": {
            "text/html": [
              "<div>\n",
              "<style scoped>\n",
              "    .dataframe tbody tr th:only-of-type {\n",
              "        vertical-align: middle;\n",
              "    }\n",
              "\n",
              "    .dataframe tbody tr th {\n",
              "        vertical-align: top;\n",
              "    }\n",
              "\n",
              "    .dataframe thead th {\n",
              "        text-align: right;\n",
              "    }\n",
              "</style>\n",
              "<table border=\"1\" class=\"dataframe\">\n",
              "  <thead>\n",
              "    <tr style=\"text-align: right;\">\n",
              "      <th></th>\n",
              "      <th>Open</th>\n",
              "      <th>High</th>\n",
              "      <th>Low</th>\n",
              "      <th>Volume</th>\n",
              "      <th>Subjectivity</th>\n",
              "      <th>Polarity</th>\n",
              "      <th>Compound</th>\n",
              "      <th>Negative</th>\n",
              "      <th>Neutral</th>\n",
              "      <th>Positive</th>\n",
              "    </tr>\n",
              "  </thead>\n",
              "  <tbody>\n",
              "    <tr>\n",
              "      <th>0</th>\n",
              "      <td>11432.089844</td>\n",
              "      <td>11759.959961</td>\n",
              "      <td>11388.040039</td>\n",
              "      <td>212830000</td>\n",
              "      <td>0.267549</td>\n",
              "      <td>-0.048568</td>\n",
              "      <td>-0.9982</td>\n",
              "      <td>0.235</td>\n",
              "      <td>0.724</td>\n",
              "      <td>0.041</td>\n",
              "    </tr>\n",
              "    <tr>\n",
              "      <th>1</th>\n",
              "      <td>11729.669922</td>\n",
              "      <td>11867.110352</td>\n",
              "      <td>11675.530273</td>\n",
              "      <td>183190000</td>\n",
              "      <td>0.374806</td>\n",
              "      <td>0.121956</td>\n",
              "      <td>-0.9858</td>\n",
              "      <td>0.191</td>\n",
              "      <td>0.721</td>\n",
              "      <td>0.089</td>\n",
              "    </tr>\n",
              "    <tr>\n",
              "      <th>2</th>\n",
              "      <td>11781.700195</td>\n",
              "      <td>11782.349609</td>\n",
              "      <td>11601.519531</td>\n",
              "      <td>173590000</td>\n",
              "      <td>0.536234</td>\n",
              "      <td>-0.044302</td>\n",
              "      <td>-0.9715</td>\n",
              "      <td>0.128</td>\n",
              "      <td>0.816</td>\n",
              "      <td>0.056</td>\n",
              "    </tr>\n",
              "    <tr>\n",
              "      <th>3</th>\n",
              "      <td>11632.809570</td>\n",
              "      <td>11633.780273</td>\n",
              "      <td>11453.339844</td>\n",
              "      <td>182550000</td>\n",
              "      <td>0.364021</td>\n",
              "      <td>0.011398</td>\n",
              "      <td>-0.9809</td>\n",
              "      <td>0.146</td>\n",
              "      <td>0.788</td>\n",
              "      <td>0.066</td>\n",
              "    </tr>\n",
              "    <tr>\n",
              "      <th>4</th>\n",
              "      <td>11532.070312</td>\n",
              "      <td>11718.280273</td>\n",
              "      <td>11450.889648</td>\n",
              "      <td>159790000</td>\n",
              "      <td>0.375099</td>\n",
              "      <td>0.040677</td>\n",
              "      <td>-0.9882</td>\n",
              "      <td>0.189</td>\n",
              "      <td>0.717</td>\n",
              "      <td>0.094</td>\n",
              "    </tr>\n",
              "  </tbody>\n",
              "</table>\n",
              "</div>"
            ],
            "text/plain": [
              "           Open          High           Low     Volume  Subjectivity  \\\n",
              "0  11432.089844  11759.959961  11388.040039  212830000      0.267549   \n",
              "1  11729.669922  11867.110352  11675.530273  183190000      0.374806   \n",
              "2  11781.700195  11782.349609  11601.519531  173590000      0.536234   \n",
              "3  11632.809570  11633.780273  11453.339844  182550000      0.364021   \n",
              "4  11532.070312  11718.280273  11450.889648  159790000      0.375099   \n",
              "\n",
              "   Polarity  Compound  Negative  Neutral  Positive  \n",
              "0 -0.048568   -0.9982     0.235    0.724     0.041  \n",
              "1  0.121956   -0.9858     0.191    0.721     0.089  \n",
              "2 -0.044302   -0.9715     0.128    0.816     0.056  \n",
              "3  0.011398   -0.9809     0.146    0.788     0.066  \n",
              "4  0.040677   -0.9882     0.189    0.717     0.094  "
            ]
          },
          "metadata": {
            "tags": []
          },
          "execution_count": 72
        }
      ]
    },
    {
      "cell_type": "code",
      "metadata": {
        "id": "nsyLm3AWTRCs",
        "outputId": "378115d1-c1cc-46ec-942a-21f5241ae2cf",
        "colab": {
          "base_uri": "https://localhost:8080/",
          "height": 119
        }
      },
      "source": [
        "y.head()"
      ],
      "execution_count": null,
      "outputs": [
        {
          "output_type": "execute_result",
          "data": {
            "text/plain": [
              "0    0\n",
              "1    1\n",
              "2    0\n",
              "3    0\n",
              "4    1\n",
              "Name: Label, dtype: int64"
            ]
          },
          "metadata": {
            "tags": []
          },
          "execution_count": 73
        }
      ]
    },
    {
      "cell_type": "code",
      "metadata": {
        "id": "FLFCdzxpTR-b"
      },
      "source": [
        "x_train, x_test, y_train, y_test = train_test_split(X, y, test_size=0.2, random_state = 0,stratify=y)"
      ],
      "execution_count": null,
      "outputs": []
    },
    {
      "cell_type": "markdown",
      "metadata": {
        "id": "Xdebe-OsTnRK"
      },
      "source": [
        "## SVM Model"
      ]
    },
    {
      "cell_type": "code",
      "metadata": {
        "id": "IgyWAkMRToVN",
        "outputId": "f7eeeb47-a5e0-4eee-f517-418721a49d9a",
        "colab": {
          "base_uri": "https://localhost:8080/",
          "height": 85
        }
      },
      "source": [
        "svclassifier = SVC(kernel='poly',degree=3,class_weight='balanced')\n",
        "svclassifier.fit(x_train, y_train)"
      ],
      "execution_count": null,
      "outputs": [
        {
          "output_type": "execute_result",
          "data": {
            "text/plain": [
              "SVC(class_weight='balanced', kernel='poly')"
            ]
          },
          "metadata": {
            "tags": []
          },
          "execution_count": 76
        }
      ]
    },
    {
      "cell_type": "code",
      "metadata": {
        "id": "fEzl5Y4kToSg"
      },
      "source": [
        "y_pred = svclassifier.predict(x_test)"
      ],
      "execution_count": null,
      "outputs": []
    },
    {
      "cell_type": "code",
      "metadata": {
        "id": "nx6ziaE9TXFN",
        "outputId": "15941d02-4497-4b20-c9cb-fc30a620e2b9",
        "colab": {
          "base_uri": "https://localhost:8080/",
          "height": 51
        }
      },
      "source": [
        "print(confusion_matrix(y_test,y_pred))"
      ],
      "execution_count": null,
      "outputs": [
        {
          "output_type": "stream",
          "text": [
            "[[  3 182]\n",
            " [  4 209]]\n"
          ],
          "name": "stdout"
        }
      ]
    },
    {
      "cell_type": "code",
      "metadata": {
        "id": "vzCg0iVTT2cp",
        "outputId": "dbe6551f-728e-41d2-c737-6b3e371cdd15",
        "colab": {
          "base_uri": "https://localhost:8080/",
          "height": 170
        }
      },
      "source": [
        "print(classification_report(y_test,y_pred))"
      ],
      "execution_count": null,
      "outputs": [
        {
          "output_type": "stream",
          "text": [
            "              precision    recall  f1-score   support\n",
            "\n",
            "           0       0.43      0.02      0.03       185\n",
            "           1       0.53      0.98      0.69       213\n",
            "\n",
            "    accuracy                           0.53       398\n",
            "   macro avg       0.48      0.50      0.36       398\n",
            "weighted avg       0.49      0.53      0.38       398\n",
            "\n"
          ],
          "name": "stdout"
        }
      ]
    },
    {
      "cell_type": "markdown",
      "metadata": {
        "id": "NhLsz7WOUCz8"
      },
      "source": [
        "## Linear Discriminant Analysis"
      ]
    },
    {
      "cell_type": "code",
      "metadata": {
        "id": "qDFHQPiUUHlm"
      },
      "source": [
        "model = LinearDiscriminantAnalysis().fit(x_train, y_train)"
      ],
      "execution_count": null,
      "outputs": []
    },
    {
      "cell_type": "code",
      "metadata": {
        "id": "2pkM81VSUKcX",
        "outputId": "8bdae8d3-edff-4803-b59a-b89978fc6d2b",
        "colab": {
          "base_uri": "https://localhost:8080/",
          "height": 340
        }
      },
      "source": [
        "predictions = model.predict(x_test)\n",
        "predictions"
      ],
      "execution_count": null,
      "outputs": [
        {
          "output_type": "execute_result",
          "data": {
            "text/plain": [
              "array([0, 1, 1, 1, 0, 1, 0, 0, 1, 1, 1, 0, 1, 0, 0, 1, 0, 0, 0, 1, 1, 0,\n",
              "       1, 0, 1, 0, 0, 1, 1, 0, 1, 0, 1, 1, 1, 1, 0, 0, 1, 1, 1, 0, 0, 1,\n",
              "       0, 0, 1, 0, 0, 1, 1, 0, 1, 1, 0, 1, 1, 0, 0, 1, 0, 0, 0, 1, 0, 0,\n",
              "       0, 1, 0, 0, 0, 1, 1, 1, 1, 0, 0, 1, 1, 1, 0, 1, 1, 0, 1, 1, 0, 0,\n",
              "       1, 1, 1, 0, 0, 0, 0, 1, 0, 0, 0, 1, 0, 0, 1, 1, 1, 1, 0, 0, 1, 0,\n",
              "       1, 1, 1, 1, 1, 0, 0, 0, 1, 0, 1, 0, 1, 1, 0, 0, 1, 1, 1, 1, 1, 0,\n",
              "       1, 0, 1, 1, 1, 1, 0, 0, 0, 1, 0, 0, 1, 1, 0, 1, 0, 1, 1, 0, 0, 1,\n",
              "       1, 0, 0, 1, 0, 1, 0, 1, 0, 1, 0, 0, 0, 0, 1, 0, 0, 1, 1, 0, 0, 1,\n",
              "       0, 1, 0, 1, 1, 0, 1, 0, 0, 1, 1, 1, 0, 1, 1, 1, 1, 1, 0, 1, 0, 1,\n",
              "       0, 1, 1, 1, 0, 1, 0, 1, 0, 1, 0, 0, 1, 1, 1, 1, 1, 0, 1, 1, 0, 1,\n",
              "       1, 0, 1, 1, 1, 0, 1, 0, 0, 1, 1, 1, 0, 1, 1, 0, 1, 1, 1, 1, 0, 1,\n",
              "       0, 0, 0, 0, 0, 1, 1, 0, 1, 0, 1, 0, 0, 1, 1, 1, 1, 1, 0, 0, 1, 0,\n",
              "       1, 0, 1, 0, 0, 0, 0, 0, 1, 1, 0, 1, 0, 1, 0, 1, 0, 0, 0, 0, 0, 1,\n",
              "       1, 1, 0, 1, 0, 1, 0, 0, 1, 0, 1, 0, 1, 0, 0, 0, 0, 0, 1, 1, 1, 0,\n",
              "       1, 1, 0, 1, 1, 1, 1, 1, 0, 1, 0, 0, 0, 1, 0, 0, 1, 0, 1, 0, 0, 1,\n",
              "       0, 1, 1, 0, 0, 1, 0, 0, 0, 1, 1, 1, 0, 1, 0, 1, 1, 1, 0, 1, 0, 0,\n",
              "       1, 1, 1, 0, 0, 1, 1, 0, 0, 0, 1, 1, 1, 1, 1, 1, 1, 1, 1, 1, 0, 0,\n",
              "       1, 1, 1, 0, 1, 1, 0, 1, 0, 0, 1, 0, 0, 1, 1, 1, 0, 1, 1, 0, 0, 0,\n",
              "       0, 0])"
            ]
          },
          "metadata": {
            "tags": []
          },
          "execution_count": 82
        }
      ]
    },
    {
      "cell_type": "code",
      "metadata": {
        "id": "2MHN2T7qURX3",
        "outputId": "ea4d9511-7ca0-4a35-ebd5-9b7326851c3f",
        "colab": {
          "base_uri": "https://localhost:8080/",
          "height": 170
        }
      },
      "source": [
        "print( classification_report(y_test, predictions) )"
      ],
      "execution_count": null,
      "outputs": [
        {
          "output_type": "stream",
          "text": [
            "              precision    recall  f1-score   support\n",
            "\n",
            "           0       0.83      0.84      0.84       185\n",
            "           1       0.86      0.85      0.86       213\n",
            "\n",
            "    accuracy                           0.85       398\n",
            "   macro avg       0.85      0.85      0.85       398\n",
            "weighted avg       0.85      0.85      0.85       398\n",
            "\n"
          ],
          "name": "stdout"
        }
      ]
    },
    {
      "cell_type": "markdown",
      "metadata": {
        "id": "5fSeiGUBUZQj"
      },
      "source": [
        "## Decision Tree"
      ]
    },
    {
      "cell_type": "code",
      "metadata": {
        "id": "-tMAlHbYUhCo"
      },
      "source": [
        "tree = DecisionTreeClassifier().fit(x_train, y_train)"
      ],
      "execution_count": null,
      "outputs": []
    },
    {
      "cell_type": "code",
      "metadata": {
        "id": "GtVlZQfPUhYq"
      },
      "source": [
        "tree = DecisionTreeClassifier().fit(x_train, y_train)"
      ],
      "execution_count": null,
      "outputs": []
    },
    {
      "cell_type": "code",
      "metadata": {
        "id": "O81M_D57Uhih",
        "outputId": "358f159b-e802-40f9-ce73-574d7bd572a4",
        "colab": {
          "base_uri": "https://localhost:8080/",
          "height": 34
        }
      },
      "source": [
        "print( tree.score(x_test, y_test))"
      ],
      "execution_count": null,
      "outputs": [
        {
          "output_type": "stream",
          "text": [
            "0.5452261306532663\n"
          ],
          "name": "stdout"
        }
      ]
    },
    {
      "cell_type": "code",
      "metadata": {
        "id": "5S6C3j1mUuXb",
        "outputId": "8bd7affa-7c89-4ba9-85b2-781c6c127642",
        "colab": {
          "base_uri": "https://localhost:8080/",
          "height": 204
        }
      },
      "source": [
        "tree_prediction = tree.predict(x_test)\n",
        "print( tree_prediction )"
      ],
      "execution_count": null,
      "outputs": [
        {
          "output_type": "stream",
          "text": [
            "[0 1 1 1 1 1 1 0 0 1 1 1 1 0 0 0 0 1 1 1 0 1 1 1 0 0 0 1 0 0 0 1 1 0 1 0 1\n",
            " 0 1 1 0 1 1 1 0 0 0 1 0 0 1 0 1 0 0 1 1 1 1 1 1 1 0 1 0 0 1 0 0 0 1 1 1 1\n",
            " 0 1 1 1 0 1 0 1 0 1 0 1 0 1 1 1 1 0 0 1 0 1 1 0 0 0 0 1 1 1 0 1 1 1 1 1 0\n",
            " 1 0 1 1 0 0 1 1 0 1 1 1 1 0 0 1 1 0 1 0 1 1 0 1 1 0 1 0 0 0 1 1 1 0 0 0 1\n",
            " 0 0 1 1 1 0 0 0 1 1 1 0 1 1 1 0 0 1 1 1 1 0 1 1 1 1 1 0 0 0 1 0 1 0 1 1 1\n",
            " 0 1 1 1 0 0 1 1 1 0 1 0 1 1 0 1 1 0 1 0 1 1 1 1 0 1 1 0 0 1 0 0 1 0 1 1 1\n",
            " 1 0 1 1 1 0 1 0 1 1 1 1 0 0 1 0 0 0 0 1 0 1 1 1 0 1 1 0 1 0 1 1 0 0 1 1 1\n",
            " 0 1 1 0 0 1 1 0 0 0 1 1 1 1 1 0 1 1 0 1 1 1 0 1 1 1 0 1 1 0 0 0 1 1 0 0 0\n",
            " 1 1 0 0 1 0 0 1 1 0 0 1 1 1 0 0 0 0 0 1 1 0 0 0 1 0 0 1 0 1 0 1 0 0 0 1 1\n",
            " 0 0 1 1 1 0 0 1 1 0 1 0 1 1 0 0 1 1 0 1 1 1 0 1 1 1 0 0 1 0 0 1 1 1 1 0 1\n",
            " 0 0 0 0 1 1 1 1 1 1 0 1 0 0 0 0 0 0 0 1 0 1 1 1 0 0 1 0]\n"
          ],
          "name": "stdout"
        }
      ]
    },
    {
      "cell_type": "code",
      "metadata": {
        "id": "yfzcyAJwUyMq",
        "outputId": "4564de76-341d-4a32-d0c3-b9f57041a361",
        "colab": {
          "base_uri": "https://localhost:8080/",
          "height": 221
        }
      },
      "source": [
        "y_test"
      ],
      "execution_count": null,
      "outputs": [
        {
          "output_type": "execute_result",
          "data": {
            "text/plain": [
              "972     0\n",
              "1013    0\n",
              "1921    1\n",
              "402     1\n",
              "256     0\n",
              "       ..\n",
              "1096    0\n",
              "187     0\n",
              "1254    1\n",
              "1308    1\n",
              "1311    0\n",
              "Name: Label, Length: 398, dtype: int64"
            ]
          },
          "metadata": {
            "tags": []
          },
          "execution_count": 91
        }
      ]
    },
    {
      "cell_type": "code",
      "metadata": {
        "id": "lqpwzg3GU2Or",
        "scrolled": true,
        "outputId": "96defa8c-18e2-4654-df99-3a8114b40f87",
        "colab": {
          "base_uri": "https://localhost:8080/",
          "height": 170
        }
      },
      "source": [
        "print( classification_report(y_test, tree_prediction) )"
      ],
      "execution_count": null,
      "outputs": [
        {
          "output_type": "stream",
          "text": [
            "              precision    recall  f1-score   support\n",
            "\n",
            "           0       0.51      0.48      0.50       185\n",
            "           1       0.57      0.60      0.59       213\n",
            "\n",
            "    accuracy                           0.55       398\n",
            "   macro avg       0.54      0.54      0.54       398\n",
            "weighted avg       0.54      0.55      0.54       398\n",
            "\n"
          ],
          "name": "stdout"
        }
      ]
    },
    {
      "cell_type": "markdown",
      "metadata": {
        "id": "qHqUCEkmSLvh"
      },
      "source": [
        "## Accuracy:\n",
        "### SVM: 49%\n",
        "### LDA: 85%\n",
        "### Decision Tree: 54%"
      ]
    }
  ]
}